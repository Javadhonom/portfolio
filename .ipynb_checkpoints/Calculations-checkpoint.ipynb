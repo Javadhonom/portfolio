{
 "cells": [
  {
   "cell_type": "markdown",
   "id": "b125ac61",
   "metadata": {},
   "source": [
    "## initialization"
   ]
  },
  {
   "cell_type": "markdown",
   "id": "9d7e8804",
   "metadata": {},
   "source": [
    "### imports"
   ]
  },
  {
   "cell_type": "code",
   "execution_count": 1,
   "id": "d842d9cc",
   "metadata": {},
   "outputs": [],
   "source": [
    "from initailFunctionsPath import *"
   ]
  },
  {
   "cell_type": "markdown",
   "id": "469fdf04",
   "metadata": {},
   "source": [
    "### Spark instaniation"
   ]
  },
  {
   "cell_type": "code",
   "execution_count": 2,
   "id": "e36e89f9",
   "metadata": {
    "scrolled": false
   },
   "outputs": [],
   "source": [
    "conf = SparkConf()\n",
    "(conf\n",
    ".set('spark.driver.memory', '140g')\n",
    ".set('spark.executer.cores', '58')\n",
    ".set('spark.shuffle.service.index.cache.size', '3g')\n",
    ".setAppName('Practice') )\n",
    "sc = SparkContext.getOrCreate(conf=conf)\n",
    "spark = SparkSession(sc)"
   ]
  },
  {
   "cell_type": "markdown",
   "id": "46c797ab",
   "metadata": {},
   "source": [
    "## data inputs"
   ]
  },
  {
   "cell_type": "markdown",
   "id": "68dab27c",
   "metadata": {},
   "source": [
    "### load daily price and shrout data"
   ]
  },
  {
   "cell_type": "code",
   "execution_count": null,
   "id": "a00fd371",
   "metadata": {},
   "outputs": [],
   "source": [
    "price_df = (\n",
    "    spark.read.parquet(PRICE_PATH + '/Cleaned_Stock_Prices_14001127.parquet')\n",
    "    .filter(F.col('jalaliDate').between(MIN_ANALYSIS_DATE, MAX_ANALYSIS_DATE))\n",
    "    .select(\n",
    "        F.col('jalaliDate').alias('date'),\n",
    "        F.col('name').alias('symbol'),\n",
    "        'close_price',\n",
    "        'close_price_adjusted',\n",
    "        'shrout',\n",
    "        (F.col('MarketCap') / 10**7).alias('mktcap')\n",
    "    )\n",
    ")\n",
    "\n",
    "display_df(price_df)"
   ]
  },
  {
   "cell_type": "code",
   "execution_count": null,
   "id": "5f9068e1",
   "metadata": {},
   "outputs": [],
   "source": [
    "MIN_PRICE_DATE = price_df.agg(F.min('date')).collect()[0][0]\n",
    "MAX_PRICE_DATE = price_df.agg(F.max('date')).collect()[0][0]\n",
    "min_max(price_df)"
   ]
  },
  {
   "cell_type": "markdown",
   "id": "bd4f7b92",
   "metadata": {},
   "source": [
    "### load valid symbols data"
   ]
  },
  {
   "cell_type": "code",
   "execution_count": 7,
   "id": "05f80d1a",
   "metadata": {},
   "outputs": [
    {
     "name": "stdout",
     "output_type": "stream",
     "text": [
      "1279\n",
      "+------+\n",
      "|symbol|\n",
      "+------+\n",
      "|ختوقا |\n",
      "|همراه |\n",
      "|بالاس |\n",
      "+------+\n",
      "only showing top 3 rows\n",
      "\n"
     ]
    }
   ],
   "source": [
    "valid_symbols_df = (\n",
    "    spark.read.parquet(VALID_SYMBOLS_PATH + '/validSymbols.parquet')\n",
    ")\n",
    "\n",
    "display_df(valid_symbols_df)"
   ]
  },
  {
   "cell_type": "markdown",
   "id": "e4de6721",
   "metadata": {},
   "source": [
    "### load daily trade data"
   ]
  },
  {
   "cell_type": "code",
   "execution_count": 9,
   "id": "f685558c",
   "metadata": {
    "scrolled": true
   },
   "outputs": [
    {
     "name": "stdout",
     "output_type": "stream",
     "text": [
      "297552089\n",
      "+------+--------+------------+----------+--------------------+--------------+---------------+-----------+------------+----------------+-----------------+\n",
      "|symbol|date    |nTradeShares|tradePrice|tradeSettlementValue|buyerAccountId|sellerAccountId|buyerBroker|sellerBroker|buyerBrokerGroup|sellerBrokerGroup|\n",
      "+------+--------+------------+----------+--------------------+--------------+---------------+-----------+------------+----------------+-----------------+\n",
      "|وسپه  |13980105|13780       |2198.0    |3.028844            |6514269       |7307492        |pf         |tm          |125             |189              |\n",
      "|شجم   |13980105|12000       |3100.0    |3.72                |9686994       |10950052       |3G         |3H          |112             |174              |\n",
      "|شیران |13980105|47130       |4772.0    |22.490436           |3868828       |4980976        |R5         |IZ          |133             |442              |\n",
      "+------+--------+------------+----------+--------------------+--------------+---------------+-----------+------------+----------------+-----------------+\n",
      "only showing top 3 rows\n",
      "\n"
     ]
    }
   ],
   "source": [
    "trade_df = (\n",
    "    spark.read.parquet(PATH_PORTFOLIO + '/trade_df.parquet')\n",
    "    .join(valid_symbols_df, on = ['symbol'], how = 'inner')\n",
    ")\n",
    "\n",
    "display_df(trade_df)"
   ]
  },
  {
   "cell_type": "code",
   "execution_count": 10,
   "id": "770cc438",
   "metadata": {},
   "outputs": [
    {
     "name": "stdout",
     "output_type": "stream",
     "text": [
      "missing nTradeShares:  0.0\n",
      "missing tradeSettlementValue:  0.0\n"
     ]
    }
   ],
   "source": [
    "print('missing nTradeShares: ', round(trade_df.filter(F.col('nTradeShares') == 0).count() / trade_df.count(), 5))\n",
    "print('missing tradeSettlementValue: ', round(trade_df.filter(F.col('tradeSettlementValue') == 0).count() / trade_df.count(), 5))"
   ]
  },
  {
   "cell_type": "markdown",
   "id": "fc780728",
   "metadata": {},
   "source": [
    "### load initial portfolio data"
   ]
  },
  {
   "cell_type": "code",
   "execution_count": 11,
   "id": "9740e5b9",
   "metadata": {},
   "outputs": [
    {
     "name": "stdout",
     "output_type": "stream",
     "text": [
      "8777463\n",
      "+------+---------+--------+-----------+\n",
      "|symbol|accountId|date    |nHeldShares|\n",
      "+------+---------+--------+-----------+\n",
      "|زنجان |1367989  |13980105|1014       |\n",
      "|سغربح |7254749  |13980105|1333       |\n",
      "|واحصا |9329438  |13980105|2640       |\n",
      "+------+---------+--------+-----------+\n",
      "only showing top 3 rows\n",
      "\n"
     ]
    }
   ],
   "source": [
    "portfolio_df = (\n",
    "    spark.read.parquet(PATH_PORTFOLIO + '/portfolio_df.parquet')\n",
    "    .join(valid_symbols_df, on = ['symbol'], how = 'inner')\n",
    ")\n",
    "\n",
    "display_df(portfolio_df)"
   ]
  },
  {
   "cell_type": "markdown",
   "id": "7045604a",
   "metadata": {},
   "source": [
    "### load daily portfolio data"
   ]
  },
  {
   "cell_type": "code",
   "execution_count": 12,
   "id": "87f3758a",
   "metadata": {
    "scrolled": true
   },
   "outputs": [
    {
     "name": "stdout",
     "output_type": "stream",
     "text": [
      "147444172\n",
      "+------+---------+--------+------------------+----------+---------+\n",
      "|symbol|accountId|date    |heldShares        |netCashOut|netCashIn|\n",
      "+------+---------+--------+------------------+----------+---------+\n",
      "|وملل  |33       |13980708|31636.363636363636|0.0       |-5.62    |\n",
      "|وملل  |33       |13981003|0.8496176720473159|6.774     |-5.62    |\n",
      "|کروی  |33       |13980105|22847.89644012945 |0.0       |0.0      |\n",
      "+------+---------+--------+------------------+----------+---------+\n",
      "only showing top 3 rows\n",
      "\n"
     ]
    }
   ],
   "source": [
    "daily_portfolio_df = (\n",
    "    spark.read.parquet(PATH_PORTFOLIO + '/daily_portfolio_df.parquet')\n",
    "    .join(valid_symbols_df, on = ['symbol'], how = 'inner')\n",
    ")\n",
    "\n",
    "display_df(daily_portfolio_df)"
   ]
  },
  {
   "cell_type": "markdown",
   "id": "cc181958",
   "metadata": {},
   "source": [
    "### load adjusted initial portfolio data"
   ]
  },
  {
   "cell_type": "code",
   "execution_count": 13,
   "id": "d36f8a51",
   "metadata": {
    "scrolled": true
   },
   "outputs": [
    {
     "name": "stdout",
     "output_type": "stream",
     "text": [
      "8874015\n",
      "+------+--------+---------+-----------------+\n",
      "|symbol|date    |accountId|nHeldShares      |\n",
      "+------+--------+---------+-----------------+\n",
      "|بزاگرس|13980105|9817865  |925.1959619952494|\n",
      "|بزاگرس|13980105|13793671 |925.1959619952494|\n",
      "|بزاگرس|13980105|3732476  |927.2565320665083|\n",
      "+------+--------+---------+-----------------+\n",
      "only showing top 3 rows\n",
      "\n"
     ]
    }
   ],
   "source": [
    "adjusted_portfolio_df = (\n",
    "    spark.read.parquet(PATH_PORTFOLIO + '/adjusted_portfolio_df.parquet')\n",
    "    .join(valid_symbols_df, on = ['symbol'], how = 'inner')\n",
    ")\n",
    "\n",
    "display_df(adjusted_portfolio_df)"
   ]
  },
  {
   "cell_type": "code",
   "execution_count": null,
   "id": "42090b99",
   "metadata": {},
   "outputs": [],
   "source": [
    "# Why count(adjusted_portfolio_df) > count(portfolio_df)"
   ]
  },
  {
   "cell_type": "markdown",
   "id": "456ebc93",
   "metadata": {},
   "source": [
    "### load invalid holdings data (negative number of shares!)"
   ]
  },
  {
   "cell_type": "code",
   "execution_count": 14,
   "id": "5b93f66f",
   "metadata": {
    "scrolled": true
   },
   "outputs": [
    {
     "name": "stdout",
     "output_type": "stream",
     "text": [
      "22984360\n",
      "+------+---------+--------------+\n",
      "|symbol|accountId|invalidHolding|\n",
      "+------+---------+--------------+\n",
      "|کویر  |28       |1             |\n",
      "|زماهان|52       |1             |\n",
      "|شتران |471      |1             |\n",
      "+------+---------+--------------+\n",
      "only showing top 3 rows\n",
      "\n"
     ]
    }
   ],
   "source": [
    "invalid_holdings_df = (\n",
    "    spark.read.parquet(PATH_PORTFOLIO + '/invalid_holdings_df.parquet')\n",
    "    .join(valid_symbols_df, on = ['symbol'], how = 'inner')\n",
    ")\n",
    "\n",
    "display_df(invalid_holdings_df)"
   ]
  },
  {
   "cell_type": "markdown",
   "id": "1c0214b7",
   "metadata": {},
   "source": [
    "### load flat daily trade data"
   ]
  },
  {
   "cell_type": "code",
   "execution_count": 16,
   "id": "f22a99f8",
   "metadata": {
    "scrolled": true
   },
   "outputs": [
    {
     "name": "stdout",
     "output_type": "stream",
     "text": [
      "139935727\n",
      "+------+---------+--------+-------------------+-------+------------------+\n",
      "|symbol|accountId|date    |nTradeShares       |cashOut|cashIn            |\n",
      "+------+---------+--------+-------------------+-------+------------------+\n",
      "|سشمال |176      |13990407|-20.70546145676114 |0.03704|0.0               |\n",
      "|سشمال |176      |13990313|-4089.2215818925915|5.01887|0.0               |\n",
      "|سشمال |176      |13990210|4242.549203373946  |0.0    |-4.575900000000001|\n",
      "+------+---------+--------+-------------------+-------+------------------+\n",
      "only showing top 3 rows\n",
      "\n"
     ]
    }
   ],
   "source": [
    "flat_trade_df = (\n",
    "    spark.read.parquet(PATH_PORTFOLIO + '/flat_trade_df.parquet')\n",
    "    .join(valid_symbols_df, on = ['symbol'], how = 'inner')\n",
    ")\n",
    "\n",
    "display_df(flat_trade_df)"
   ]
  },
  {
   "cell_type": "markdown",
   "id": "27b9a8b5",
   "metadata": {},
   "source": [
    "### load adjusted flat trade data"
   ]
  },
  {
   "cell_type": "code",
   "execution_count": 17,
   "id": "62951cd1",
   "metadata": {
    "scrolled": true
   },
   "outputs": [
    {
     "name": "stdout",
     "output_type": "stream",
     "text": [
      "214567502\n",
      "+------+--------+---------+------------------+-------+---------+\n",
      "|symbol|date    |accountId|nTradeShares      |cashOut|cashIn   |\n",
      "+------+--------+---------+------------------+-------+---------+\n",
      "|جم    |13980105|175501   |1153.305806451613 |0.0    |-0.814023|\n",
      "|جم    |13980105|192696   |-4925.686594982079|3.45135|0.0      |\n",
      "|جم    |13980105|408559   |733.7622939068101 |0.0    |-0.517902|\n",
      "+------+--------+---------+------------------+-------+---------+\n",
      "only showing top 3 rows\n",
      "\n"
     ]
    }
   ],
   "source": [
    "adjusted_raw_flat_trade_df = (\n",
    "    spark.read.parquet(PATH_PORTFOLIO + '/adjusted_raw_flat_trade_df.parquet')\n",
    "    .join(valid_symbols_df, on = ['symbol'], how = 'inner')\n",
    ")\n",
    "\n",
    "display_df(adjusted_raw_flat_trade_df)"
   ]
  },
  {
   "cell_type": "code",
   "execution_count": null,
   "id": "177142f5",
   "metadata": {},
   "outputs": [],
   "source": [
    "# wwhy count(adjusted_raw_flat_trade_df) > count(flat_trade_df)?"
   ]
  },
  {
   "cell_type": "markdown",
   "id": "cfee1846",
   "metadata": {},
   "source": [
    "## data preparation"
   ]
  },
  {
   "cell_type": "markdown",
   "id": "5f89a234",
   "metadata": {},
   "source": [
    "### find new entrants"
   ]
  },
  {
   "cell_type": "code",
   "execution_count": 18,
   "id": "f286fd7e",
   "metadata": {},
   "outputs": [
    {
     "name": "stdout",
     "output_type": "stream",
     "text": [
      "3704625\n",
      "+---------+---------+\n",
      "|accountId|firstDate|\n",
      "+---------+---------+\n",
      "|964      |13980708 |\n",
      "|1697     |13990231 |\n",
      "|1950     |13980701 |\n",
      "+---------+---------+\n",
      "only showing top 3 rows\n",
      "\n"
     ]
    }
   ],
   "source": [
    "new_entrant_account_ids_df = (\n",
    "    flat_trade_df\n",
    "    .groupBy('accountId')\n",
    "    .agg(\n",
    "        F.min('date').alias('firstDate')\n",
    "    )\n",
    "    .join(portfolio_df.select('accountId').distinct(), on = ['accountId'], how = 'left_anti')\n",
    ")\n",
    "\n",
    "display_df(new_entrant_account_ids_df)"
   ]
  },
  {
   "cell_type": "code",
   "execution_count": 19,
   "id": "3d0ea14e",
   "metadata": {},
   "outputs": [],
   "source": [
    "(\n",
    "    new_entrant_account_ids_df\n",
    "    .write.mode('overwrite').parquet(PATH_OUTPUT.format('new_entrant_account_ids.parquet'))\n",
    ")"
   ]
  },
  {
   "cell_type": "markdown",
   "id": "3bea8eeb",
   "metadata": {},
   "source": [
    "### time series of new entrants"
   ]
  },
  {
   "cell_type": "code",
   "execution_count": 20,
   "id": "84c9b19c",
   "metadata": {},
   "outputs": [
    {
     "name": "stdout",
     "output_type": "stream",
     "text": [
      "301\n",
      "+--------+-----+\n",
      "|date    |count|\n",
      "+--------+-----+\n",
      "|13980105|20   |\n",
      "|13980106|346  |\n",
      "|13980107|392  |\n",
      "+--------+-----+\n",
      "only showing top 3 rows\n",
      "\n"
     ]
    }
   ],
   "source": [
    "new_entrants_time_series_df = (\n",
    "    flat_trade_df\n",
    "    .select('date', 'accountId')\n",
    "    .dropDuplicates()\n",
    "    .join(new_entrant_account_ids_df, on = 'accountId', how = 'inner')\n",
    "    .withColumn('rank', F.row_number().over(Window.partitionBy('accountId').orderBy('date')))\n",
    "    .filter(F.col('rank') == 1)\n",
    "    .drop('rank')\n",
    "    .groupBy('date')\n",
    "    .count()\n",
    "    .orderBy('date')\n",
    ")\n",
    "\n",
    "display_df(new_entrants_time_series_df)"
   ]
  },
  {
   "cell_type": "code",
   "execution_count": 22,
   "id": "6b0d66e4",
   "metadata": {},
   "outputs": [],
   "source": [
    "(\n",
    "    new_entrants_time_series_df\n",
    "    .write.mode('overwrite').parquet(PATH_OUTPUT + '/new_entrantd_time_series_df.parquet')\n",
    ")"
   ]
  },
  {
   "cell_type": "markdown",
   "id": "9d8921a7",
   "metadata": {},
   "source": [
    "### calculate gain from trade"
   ]
  },
  {
   "cell_type": "code",
   "execution_count": 24,
   "id": "bd50b51f",
   "metadata": {
    "scrolled": true
   },
   "outputs": [
    {
     "name": "stdout",
     "output_type": "stream",
     "text": [
      "4931399\n",
      "+---------+----------+-------------------+\n",
      "|accountId|netCashOut|netCashIn          |\n",
      "+---------+----------+-------------------+\n",
      "|8484     |9.1814955 |-28.470893500000003|\n",
      "|26543    |62.2021273|-90.9388771        |\n",
      "|31156    |0.0       |-52.106050499999995|\n",
      "+---------+----------+-------------------+\n",
      "only showing top 3 rows\n",
      "\n"
     ]
    }
   ],
   "source": [
    "gain_from_trade_df = (\n",
    "    flat_trade_df\n",
    "    .groupBy('accountId')\n",
    "    .agg(\n",
    "        F.sum('cashOut').alias('netCashOut'),\n",
    "        F.sum('cashIn').alias('netCashIn')\n",
    "    )\n",
    ")\n",
    "\n",
    "display_df(gain_from_trade_df)"
   ]
  },
  {
   "cell_type": "markdown",
   "id": "3c9d0b98",
   "metadata": {},
   "source": [
    "### calculate value of the initial portfolio"
   ]
  },
  {
   "cell_type": "code",
   "execution_count": 25,
   "id": "99972117",
   "metadata": {},
   "outputs": [
    {
     "name": "stdout",
     "output_type": "stream",
     "text": [
      "4181527\n",
      "+---------+---------------------+\n",
      "|accountId|initialPortfolioValue|\n",
      "+---------+---------------------+\n",
      "|50219    |0.5334175            |\n",
      "|81085    |51.522831599999996   |\n",
      "|133042   |0.045924000000000006 |\n",
      "+---------+---------------------+\n",
      "only showing top 3 rows\n",
      "\n"
     ]
    }
   ],
   "source": [
    "initial_portfolio_value_df = (\n",
    "    adjusted_portfolio_df\n",
    "    .join(price_df.select('date', 'symbol', 'close_price_adjusted'), on = ['date', 'symbol'], how = 'left')\n",
    "    .withColumnRenamed('close_price_adjusted','close_price')\n",
    "    .dropna(subset = ['close_price'])\n",
    "    .join(invalid_holdings_df, on = ['accountId', 'symbol'], how = 'left')\n",
    "    .filter(F.col('invalidHolding').isNull())\n",
    "    .withColumn('value', F.col('nHeldShares') * F.col('close_price'))\n",
    "    .groupBy('accountId')\n",
    "    .agg(\n",
    "        (F.sum('value') / 10**7).alias('initialPortfolioValue')\n",
    "    )\n",
    ")\n",
    "\n",
    "display_df(initial_portfolio_value_df)"
   ]
  },
  {
   "cell_type": "code",
   "execution_count": 26,
   "id": "471edd59",
   "metadata": {},
   "outputs": [
    {
     "name": "stdout",
     "output_type": "stream",
     "text": [
      "0\n",
      "0\n"
     ]
    }
   ],
   "source": [
    "print(initial_portfolio_value_df.filter(F.col('initialPortfolioValue').isNull()).count())\n",
    "print(initial_portfolio_value_df.filter(F.col('initialPortfolioValue') <= 0).count())"
   ]
  },
  {
   "cell_type": "markdown",
   "id": "b160c9ac",
   "metadata": {},
   "source": [
    "### calculate value of the final portfolio"
   ]
  },
  {
   "cell_type": "code",
   "execution_count": 27,
   "id": "37d21e8b",
   "metadata": {},
   "outputs": [
    {
     "name": "stdout",
     "output_type": "stream",
     "text": [
      "7895191\n",
      "+---------+-------------------+\n",
      "|accountId|finalPortfolioValue|\n",
      "+---------+-------------------+\n",
      "|3305619  |72.21817466069629  |\n",
      "|3873383  |15.727944907144892 |\n",
      "|6391901  |544.6224352203332  |\n",
      "+---------+-------------------+\n",
      "only showing top 3 rows\n",
      "\n"
     ]
    }
   ],
   "source": [
    "final_portfolio_value_df = (\n",
    "    daily_portfolio_df\n",
    "    .withColumn('rowNumber', F.row_number().over(Window.partitionBy('accountId', 'symbol').orderBy('date')))\n",
    "    .withColumn('maxRowNumber', F.max('rowNumber').over(Window.partitionBy('accountId', 'symbol')))\n",
    "    .filter(F.col('rowNumber') == F.col('maxRowNumber'))\n",
    "    .filter(F.col('heldShares') > 0)\n",
    "    .withColumn('date', F.lit(MAX_PRICE_DATE))\n",
    "    .join(price_df.select('date', 'symbol', 'close_price_adjusted'), on = ['date', 'symbol'], how = 'left')\n",
    "    .withColumnRenamed('close_price_adjusted','close_price')\n",
    "    .dropna(subset = ['close_price'])\n",
    "    .withColumn('value', F.col('heldShares') * F.col('close_price'))\n",
    "    .groupBy('accountId')\n",
    "    .agg(\n",
    "        (F.sum('value') / 10**7).alias('finalPortfolioValue')\n",
    "    )   \n",
    ")\n",
    "\n",
    "display_df(final_portfolio_value_df)\n",
    "# count after join?"
   ]
  },
  {
   "cell_type": "code",
   "execution_count": 28,
   "id": "189eaef5",
   "metadata": {},
   "outputs": [
    {
     "name": "stdout",
     "output_type": "stream",
     "text": [
      "0\n",
      "0\n"
     ]
    }
   ],
   "source": [
    "print(final_portfolio_value_df.filter(F.col('finalPortfolioValue').isNull()).count())\n",
    "print(final_portfolio_value_df.filter(F.col('finalPortfolioValue') <= 0).count())"
   ]
  },
  {
   "cell_type": "markdown",
   "id": "7105f5b5",
   "metadata": {},
   "source": [
    "### symbols in with-one-symbol portfolios"
   ]
  },
  {
   "cell_type": "code",
   "execution_count": 29,
   "id": "45409fce",
   "metadata": {},
   "outputs": [
    {
     "name": "stdout",
     "output_type": "stream",
     "text": [
      "67762383\n",
      "+------+---------+--------+------------------+----------+----------+--------------+\n",
      "|symbol|accountId|date    |heldShares        |netCashOut|netCashIn |numberOfStocks|\n",
      "+------+---------+--------+------------------+----------+----------+--------------+\n",
      "|سکارون|26       |13980105|864.5322381930185 |0.0       |0.0       |1             |\n",
      "|خاور  |964      |13981129|39352.3345323741  |0.0       |-1.0949575|102           |\n",
      "|البرز |964      |13990118|30171.907756813416|0.0       |-2.8536   |102           |\n",
      "+------+---------+--------+------------------+----------+----------+--------------+\n",
      "only showing top 3 rows\n",
      "\n"
     ]
    }
   ],
   "source": [
    "stock_count_within_portfolio_df = ( \n",
    "    daily_portfolio_df\n",
    "    .dropDuplicates(subset= ['accountId','symbol'])\n",
    "    .withColumn('numberOfStocks', F.row_number().over(Window.partitionBy('accountId').orderBy(F.desc('heldShares'))))\n",
    "    .withColumn('numberOfStocks', F.max('numberOfStocks').over(Window.partitionBy('accountId')))\n",
    ")\n",
    "\n",
    "display_df(stock_count_within_portfolio_df)"
   ]
  },
  {
   "cell_type": "code",
   "execution_count": 30,
   "id": "25a67bd0",
   "metadata": {},
   "outputs": [
    {
     "name": "stdout",
     "output_type": "stream",
     "text": [
      "720\n",
      "+------+--------------+\n",
      "|symbol|accountNumbers|\n",
      "+------+--------------+\n",
      "|آریا  |222152        |\n",
      "|سمایه |193119        |\n",
      "|وتوصا |147380        |\n",
      "+------+--------------+\n",
      "only showing top 3 rows\n",
      "\n"
     ]
    }
   ],
   "source": [
    "symbols_in_one_symbol_portfolios_df = (\n",
    "    stock_count_within_portfolio_df\n",
    "    .filter(F.col('numberOfStocks') == 1)\n",
    "    .withColumn('accountNumbers', F.row_number().over(Window.partitionBy('symbol').orderBy(F.desc('heldShares'))))\n",
    "    .withColumn('accountNumbers', F.max('accountNumbers').over(Window.partitionBy('symbol')))\n",
    "    .dropDuplicates(subset = ['symbol'])\n",
    "    .select(\n",
    "        F.col('symbol'),\n",
    "        F.col('accountNumbers'),\n",
    "    )\n",
    "    .orderBy(F.desc('accountNumbers'))\n",
    ")\n",
    "\n",
    "display_df(symbols_in_one_symbol_portfolios_df)"
   ]
  },
  {
   "cell_type": "code",
   "execution_count": 31,
   "id": "8876ec3f",
   "metadata": {},
   "outputs": [],
   "source": [
    "(\n",
    "    symbols_in_one_symbol_portfolios_df\n",
    "    .write.mode('overwrite').parquet(PATH_OUTPUT + '/symbols_in_one_symbol_portfolios_df.parquet')\n",
    ")"
   ]
  },
  {
   "cell_type": "markdown",
   "id": "f4559c87",
   "metadata": {},
   "source": [
    "### time series of the net cash-in"
   ]
  },
  {
   "cell_type": "code",
   "execution_count": 32,
   "id": "e9e5958a",
   "metadata": {},
   "outputs": [
    {
     "name": "stdout",
     "output_type": "stream",
     "text": [
      "7911435\n",
      "+---------+------------+\n",
      "|accountId|type        |\n",
      "+---------+------------+\n",
      "|2250     |lessThan10MT|\n",
      "|15057    |lessThan10MT|\n",
      "|29089    |lessThan10MT|\n",
      "+---------+------------+\n",
      "only showing top 3 rows\n",
      "\n"
     ]
    }
   ],
   "source": [
    "max_portfolio_value_df = (\n",
    "    final_portfolio_value_df\n",
    "    .join(initial_portfolio_value_df, on = ['accountId'], how = 'outer')\n",
    "    .fillna(0)\n",
    "    .withColumn('maxPortfolioValue', F.greatest(F.col('initialPortfolioValue'), F.col('finalPortfolioValue')))\n",
    "    .withColumn('type', F.when(F.col('maxPortfolioValue') < 10, 'lessThan10MT')\n",
    "                         .when(F.col('maxPortfolioValue').between(10, 20), 'between10MTand20MT')\n",
    "                         .when(F.col('maxPortfolioValue').between(20, 50), 'between20MTand50MT')\n",
    "                         .otherwise('greaterThan50MT')\n",
    "               )\n",
    "    .select('accountId', 'type')\n",
    "    .dropDuplicates()\n",
    ")\n",
    "\n",
    "display_df(max_portfolio_value_df)"
   ]
  },
  {
   "cell_type": "code",
   "execution_count": 33,
   "id": "82e94749",
   "metadata": {},
   "outputs": [
    {
     "name": "stdout",
     "output_type": "stream",
     "text": [
      "1204\n",
      "+------------------+--------+-------+---------+\n",
      "|type              |date    |netCash|nAccounts|\n",
      "+------------------+--------+-------+---------+\n",
      "|between10MTand20MT|13980105|-1375.0|12701    |\n",
      "|between20MTand50MT|13980105|-965.0 |14663    |\n",
      "|greaterThan50MT   |13980105|76052.0|52860    |\n",
      "+------------------+--------+-------+---------+\n",
      "only showing top 3 rows\n",
      "\n"
     ]
    }
   ],
   "source": [
    "dates_list = price_df.select('date').distinct().orderBy('date').rdd.flatMap(lambda x: x).collect()\n",
    "\n",
    "cash_time_series_df = (\n",
    "    flat_trade_df\n",
    "    .withColumn('netCash', F.col('cashIn') + F.col('cashOut'))\n",
    "    .join(max_portfolio_value_df, on = 'accountId', how = 'inner')\n",
    "    .groupBy('type', 'date')\n",
    "    .agg(\n",
    "        F.round((-F.sum('netCash'))).alias('netCash'),\n",
    "        F.countDistinct('accountId').alias('nAccounts')\n",
    "    )\n",
    "    .orderBy('date', 'type')\n",
    ")\n",
    "\n",
    "display_df(cash_time_series_df)"
   ]
  },
  {
   "cell_type": "code",
   "execution_count": 34,
   "id": "4fdc6d92",
   "metadata": {},
   "outputs": [],
   "source": [
    "(\n",
    "    cash_time_series_df.write.mode('overwrite').parquet(PATH_OUTPUT + 'cash_time_series.parquet')\n",
    ")"
   ]
  },
  {
   "cell_type": "markdown",
   "id": "385da296",
   "metadata": {},
   "source": [
    "## calculate returns"
   ]
  },
  {
   "cell_type": "code",
   "execution_count": 35,
   "id": "2991a55a",
   "metadata": {
    "scrolled": true
   },
   "outputs": [
    {
     "name": "stdout",
     "output_type": "stream",
     "text": [
      "7913478\n",
      "+---------+----------+-------------------+---------------------+-------------------+-------------------+------------+\n",
      "|accountId|netCashOut|netCashIn          |initialPortfolioValue|finalPortfolioValue|return             |returnDecile|\n",
      "+---------+----------+-------------------+---------------------+-------------------+-------------------+------------+\n",
      "|204280   |0.0       |-0.513331          |0.0                  |0.0345891          |-0.9326183300833186|1           |\n",
      "|8559295  |0.0       |-0.9588990000000001|0.0                  |0.064617           |-0.9326133409253738|1           |\n",
      "|9290533  |0.0       |-3.9111000000000002|0.0                  |0.26607            |-0.9319705453708675|1           |\n",
      "+---------+----------+-------------------+---------------------+-------------------+-------------------+------------+\n",
      "only showing top 3 rows\n",
      "\n"
     ]
    }
   ],
   "source": [
    "return_df = (\n",
    "    gain_from_trade_df\n",
    "    .join(initial_portfolio_value_df, on = 'accountId', how = 'outer')\n",
    "    .join(final_portfolio_value_df, on = 'accountId', how = 'outer')\n",
    "    .fillna(0, subset = ['netCashIn', 'netCashOut', 'initialPortfolioValue', 'finalPortfolioValue'])\n",
    "    .withColumn('return', \n",
    "                ((F.col('finalPortfolioValue') + F.col('netCashOut')) / (F.col('initialPortfolioValue') + (-F.col('netCashIn')))) - 1)\n",
    "    .filter(F.col('return').isNotNull())\n",
    "    .withColumn('returnDecile', F.ntile(N_QUANTILES).over(Window.partitionBy().orderBy('return')))\n",
    ")\n",
    "\n",
    "display_df(return_df)\n",
    "# null returns?"
   ]
  },
  {
   "cell_type": "code",
   "execution_count": 36,
   "id": "c4927024",
   "metadata": {},
   "outputs": [
    {
     "data": {
      "text/plain": [
       "99432"
      ]
     },
     "execution_count": 36,
     "metadata": {},
     "output_type": "execute_result"
    }
   ],
   "source": [
    "(\n",
    "    return_df\n",
    "    .filter(F.col('return') == 0)\n",
    "    .count()\n",
    ")"
   ]
  },
  {
   "cell_type": "code",
   "execution_count": 37,
   "id": "e1cca050",
   "metadata": {},
   "outputs": [
    {
     "name": "stdout",
     "output_type": "stream",
     "text": [
      "+------------+------------+\n",
      "|returnDecile|medianReturn|\n",
      "+------------+------------+\n",
      "|           1|      -0.368|\n",
      "|           2|      -0.047|\n",
      "|           3|       0.102|\n",
      "|           4|       0.371|\n",
      "|           5|       1.002|\n",
      "|           6|        1.86|\n",
      "|           7|       3.118|\n",
      "|           8|       3.808|\n",
      "|           9|       6.265|\n",
      "|          10|      10.341|\n",
      "+------------+------------+\n",
      "\n"
     ]
    }
   ],
   "source": [
    "(\n",
    "    return_df\n",
    "    .groupBy('returnDecile')\n",
    "    .agg(\n",
    "        F.round(F.expr('percentile(return, array(0.5))')[0], 3).alias('medianReturn')\n",
    "    )\n",
    "    .show()\n",
    ")"
   ]
  },
  {
   "cell_type": "code",
   "execution_count": 38,
   "id": "ba304564",
   "metadata": {},
   "outputs": [
    {
     "name": "stdout",
     "output_type": "stream",
     "text": [
      "+-----+-----+-----+---+----+----+----+----+-----+-----+\n",
      "|  min|   1%|  10%|25%| 50%|mean| 75%| 90%|  99%|99.9%|\n",
      "+-----+-----+-----+---+----+----+----+----+-----+-----+\n",
      "|-0.93|-0.66|-0.18|0.1|1.33|2.81|3.81|7.55|16.35|32.14|\n",
      "+-----+-----+-----+---+----+----+----+----+-----+-----+\n",
      "\n"
     ]
    }
   ],
   "source": [
    "(\n",
    "    return_df\n",
    "    .agg(\n",
    "       F.round(F.min('return'), 2).alias('min'),\n",
    "        F.round(F.expr('percentile(return, array(0.01))')[0], 2).alias('1%'),\n",
    "        F.round(F.expr('percentile(return, array(0.1))')[0], 2).alias('10%'),\n",
    "        F.round(F.expr('percentile(return, array(0.25))')[0], 2).alias('25%'),\n",
    "        F.round(F.expr('percentile(return, array(0.5))')[0], 2).alias('50%'),\n",
    "        F.round(F.mean('return'), 2).alias('mean'),\n",
    "        F.round(F.expr('percentile(return, array(0.75))')[0], 2).alias('75%'),\n",
    "        F.round(F.expr('percentile(return, array(0.9))')[0], 2).alias('90%'),\n",
    "        F.round(F.expr('percentile(return, array(0.99))')[0], 2).alias('99%'),\n",
    "        F.round(F.expr('percentile(return, array(0.999))')[0], 2).alias('99.9%'),\n",
    "    )\n",
    "    .show()\n",
    ")"
   ]
  },
  {
   "cell_type": "code",
   "execution_count": 39,
   "id": "2d7359d3",
   "metadata": {},
   "outputs": [],
   "source": [
    "(\n",
    "    return_df.write.mode('overwrite').parquet(PATH_OUTPUT + '/return_output.parquet')\n",
    ")"
   ]
  },
  {
   "cell_type": "code",
   "execution_count": 40,
   "id": "ab6f543f",
   "metadata": {},
   "outputs": [],
   "source": [
    "# return_df.filter(F.col('return') == return_df.select('return').rdd.max()[0]).show(20,False)"
   ]
  },
  {
   "cell_type": "code",
   "execution_count": 41,
   "id": "9407ea96",
   "metadata": {},
   "outputs": [],
   "source": [
    "# (\n",
    "#     price_df\n",
    "#     .filter((F.col(\"symbol\") == 'ودانا')&(F.col(\"date\") > 13980305))\n",
    "#     .orderBy(\"date\")\n",
    "#     .select(\n",
    "#         F.col(\"date\"),\n",
    "#         F.col(\"close_price\"),\n",
    "#         F.col(\"close_price_adjusted\"),\n",
    "#     )\n",
    "#     .show(20,False)\n",
    "# )"
   ]
  },
  {
   "cell_type": "markdown",
   "id": "9304442a",
   "metadata": {},
   "source": [
    "### final portfolio value output"
   ]
  },
  {
   "cell_type": "code",
   "execution_count": 42,
   "id": "81a77650",
   "metadata": {
    "scrolled": true
   },
   "outputs": [
    {
     "name": "stdout",
     "output_type": "stream",
     "text": [
      "7895191\n",
      "+---------+---------------------+---------------------+-------------------------+\n",
      "|accountId|finalPortfolioValue  |return               |finalPortfolioValueDecile|\n",
      "+---------+---------------------+---------------------+-------------------------+\n",
      "|3698876  |8.848043335163424E-10|-0.005837849410928575|1                        |\n",
      "|7474376  |2.9181321121080295E-9|0.006627693006516333 |1                        |\n",
      "|1117034  |3.0065844718096814E-9|0.17832664319684666  |1                        |\n",
      "+---------+---------------------+---------------------+-------------------------+\n",
      "only showing top 3 rows\n",
      "\n"
     ]
    }
   ],
   "source": [
    "output_final_portfolio_value = (\n",
    "    final_portfolio_value_df\n",
    "    .join(return_df.select('accountId', 'return'), on = 'accountId')\n",
    "    .withColumn('finalPortfolioValueDecile', F.ntile(N_QUANTILES).over(Window.partitionBy().orderBy('finalPortfolioValue')))\n",
    ")\n",
    "\n",
    "display_df(output_final_portfolio_value)"
   ]
  },
  {
   "cell_type": "code",
   "execution_count": 43,
   "id": "bdff893f",
   "metadata": {},
   "outputs": [
    {
     "name": "stdout",
     "output_type": "stream",
     "text": [
      "+-------------------------+-------------------------+----------+------------+\n",
      "|finalPortfolioValueDecile|medianFinalPortfolioValue|meanReturn|medianReturn|\n",
      "+-------------------------+-------------------------+----------+------------+\n",
      "|                        1|                     0.12|       2.3|       1.658|\n",
      "|                        2|                    0.971|       3.4|       2.627|\n",
      "|                        3|                     1.59|      2.99|       2.742|\n",
      "|                        4|                    2.273|      2.84|       1.317|\n",
      "|                        5|                    4.202|      3.03|       1.205|\n",
      "|                        6|                    7.551|      2.84|       1.326|\n",
      "|                        7|                   12.541|      2.64|       1.088|\n",
      "|                        8|                   22.168|      2.66|       0.553|\n",
      "|                        9|                   49.194|      2.89|       0.365|\n",
      "|                       10|                  192.861|      2.58|       0.401|\n",
      "+-------------------------+-------------------------+----------+------------+\n",
      "\n"
     ]
    }
   ],
   "source": [
    "(\n",
    "    output_final_portfolio_value\n",
    "    .groupBy('finalPortfolioValueDecile')\n",
    "    .agg(\n",
    "        F.round(F.expr('percentile(finalPortfolioValue, array(0.5))')[0], 3).alias('medianFinalPortfolioValue'),\n",
    "        F.round(F.mean('return'), 2).alias('meanReturn'),\n",
    "        F.round(F.expr('percentile(return, array(0.5))')[0], 3).alias('medianReturn')\n",
    "    )\n",
    "    .orderBy('finalPortfolioValueDecile')\n",
    "    .show()\n",
    ")"
   ]
  },
  {
   "cell_type": "code",
   "execution_count": 44,
   "id": "67bce316",
   "metadata": {},
   "outputs": [],
   "source": [
    "(\n",
    "    output_final_portfolio_value.write.mode('overwrite').parquet(PATH_OUTPUT + '/final_portfolio_output.parquet')\n",
    ")"
   ]
  },
  {
   "cell_type": "markdown",
   "id": "2173cf42",
   "metadata": {},
   "source": [
    "### initial portfolio value output"
   ]
  },
  {
   "cell_type": "code",
   "execution_count": 45,
   "id": "2f5e118a",
   "metadata": {},
   "outputs": [
    {
     "name": "stdout",
     "output_type": "stream",
     "text": [
      "4181527\n",
      "+---------+---------------------+------+---------------------------+\n",
      "|accountId|initialPortfolioValue|return|initialPortfolioValueDecile|\n",
      "+---------+---------------------+------+---------------------------+\n",
      "|724998   |3.0E-7               |0.0   |1                          |\n",
      "|6109672  |1.0E-6               |0.0   |1                          |\n",
      "|1316863  |1.0E-6               |0.0   |1                          |\n",
      "+---------+---------------------+------+---------------------------+\n",
      "only showing top 3 rows\n",
      "\n"
     ]
    }
   ],
   "source": [
    "output_initial_portfolio_value = (\n",
    "    initial_portfolio_value_df\n",
    "    .join(return_df.select('accountId', 'return'), on = 'accountId')\n",
    "    .withColumn('initialPortfolioValueDecile', F.ntile(N_QUANTILES).over(Window.partitionBy().orderBy('initialPortfolioValue')))\n",
    ")\n",
    "\n",
    "display_df(output_initial_portfolio_value)"
   ]
  },
  {
   "cell_type": "code",
   "execution_count": 46,
   "id": "0ba26784",
   "metadata": {},
   "outputs": [
    {
     "name": "stdout",
     "output_type": "stream",
     "text": [
      "+---------------------------+---------------------------+----------+------------+\n",
      "|initialPortfolioValueDecile|medianInitialPortfolioValue|meanReturn|medianReturn|\n",
      "+---------------------------+---------------------------+----------+------------+\n",
      "|                          1|                      0.026|      4.84|     3.69906|\n",
      "|                          2|                      0.112|      5.14|     4.04299|\n",
      "|                          3|                      0.223|      5.15|     4.04757|\n",
      "|                          4|                       0.38|      5.09|     3.92244|\n",
      "|                          5|                      0.675|      4.83|     3.48387|\n",
      "|                          6|                      1.017|      4.46|     3.55581|\n",
      "|                          7|                       1.78|      4.75|     4.03294|\n",
      "|                          8|                      3.311|      4.84|     3.73743|\n",
      "|                          9|                      7.448|      4.35|      3.6283|\n",
      "|                         10|                     32.268|      3.75|     2.73708|\n",
      "+---------------------------+---------------------------+----------+------------+\n",
      "\n"
     ]
    }
   ],
   "source": [
    "(\n",
    "    output_initial_portfolio_value\n",
    "    .groupBy('initialPortfolioValueDecile')\n",
    "    .agg(\n",
    "        F.round(F.expr('percentile(initialPortfolioValue, array(0.5))')[0], 3).alias('medianInitialPortfolioValue'),\n",
    "        F.round(F.mean('return'), 2).alias('meanReturn'),\n",
    "        F.round(F.expr('percentile(return, array(0.5))')[0], 5).alias('medianReturn')\n",
    "    )\n",
    "    .orderBy('initialPortfolioValueDecile')\n",
    "    .show()\n",
    ")"
   ]
  },
  {
   "cell_type": "code",
   "execution_count": 47,
   "id": "0c42db78",
   "metadata": {},
   "outputs": [],
   "source": [
    "(\n",
    "    output_initial_portfolio_value.write.mode('overwrite').parquet(PATH_OUTPUT + '/inital_portfolio_output.parquet')\n",
    ")"
   ]
  },
  {
   "cell_type": "markdown",
   "id": "c4358eef",
   "metadata": {},
   "source": [
    "### calculate frequency of trades and active days"
   ]
  },
  {
   "cell_type": "code",
   "execution_count": 48,
   "id": "dc91189f",
   "metadata": {},
   "outputs": [
    {
     "name": "stdout",
     "output_type": "stream",
     "text": [
      "4979581\n",
      "+---------+--------+---------+\n",
      "|accountId|nBuyDays|nSellDays|\n",
      "+---------+--------+---------+\n",
      "|5951543  |64      |83       |\n",
      "|4895055  |136     |62       |\n",
      "|14313153 |49      |32       |\n",
      "+---------+--------+---------+\n",
      "only showing top 3 rows\n",
      "\n"
     ]
    }
   ],
   "source": [
    "active_days_df = (\n",
    "    adjusted_raw_flat_trade_df\n",
    "    .groupBy('accountId', 'date')\n",
    "    .agg(\n",
    "        F.sum('cashIn').alias('netCashIn'),\n",
    "        F.sum('cashOut').alias('netCashOut')\n",
    "    )\n",
    "    .withColumn('netCash', F.col('netCashIn') + F.col('netCashOut'))\n",
    "    .groupBy('accountId')\n",
    "    .agg(\n",
    "        F.count(F.when(F.col('netCash') < 0, F.lit(1))).alias('nBuyDays'),\n",
    "        F.count(F.when(F.col('netCash') > 0, F.lit(1))).alias('nSellDays')\n",
    "    )\n",
    "    .fillna(0, subset = ['nBuyDays', 'nSellDays'])\n",
    ")\n",
    "\n",
    "display_df(active_days_df)"
   ]
  },
  {
   "cell_type": "code",
   "execution_count": 49,
   "id": "89a9d430",
   "metadata": {},
   "outputs": [],
   "source": [
    "buy_trade_df = (\n",
    "    trade_df\n",
    "        .select(\n",
    "        'date',\n",
    "        'symbol',\n",
    "        F.col('buyerAccountId').alias('accountId'),\n",
    "        'nTradeShares',\n",
    "        (-F.col('tradeSettlementValue')).alias('settlementValue'),\n",
    "        )\n",
    ")\n",
    "\n",
    "sell_trade_df = (\n",
    "    trade_df\n",
    "        .select(\n",
    "            'date',\n",
    "            'symbol',\n",
    "            F.col('sellerAccountId').alias('accountId'),\n",
    "            (-F.col('nTradeShares')).alias('nTradeShares'),\n",
    "            F.col('tradeSettlementValue').alias('settlementValue')\n",
    "        )\n",
    ")"
   ]
  },
  {
   "cell_type": "code",
   "execution_count": 50,
   "id": "ac2e1e61",
   "metadata": {},
   "outputs": [
    {
     "name": "stdout",
     "output_type": "stream",
     "text": [
      "4979581\n",
      "+---------+--------------+-------------------+--------------------+-------------------+----------+--------+---------+\n",
      "|accountId|tradeFrequency|meanTradeValue     |netSumTradeValue    |absSumTradeValue   |activeDays|nBuyDays|nSellDays|\n",
      "+---------+--------------+-------------------+--------------------+-------------------+----------+--------+---------+\n",
      "|964      |455           |1.537797882197802  |-407.73298300000005 |699.6980363999999  |95        |76      |19       |\n",
      "|1697     |2             |0.21709219999999999|-0.43418439999999997|0.43418439999999997|2         |2       |0        |\n",
      "|1950     |167           |3.4412039586826344 |34.71054649999999   |574.6810611        |47        |26      |21       |\n",
      "+---------+--------------+-------------------+--------------------+-------------------+----------+--------+---------+\n",
      "only showing top 3 rows\n",
      "\n"
     ]
    }
   ],
   "source": [
    "trade_kpi_df = (\n",
    "    buy_trade_df\n",
    "    .union(sell_trade_df)\n",
    "    .groupBy('accountId')\n",
    "    .agg(\n",
    "        F.count(F.lit(1)).alias('tradeFrequency'),\n",
    "        F.mean(F.abs('settlementValue')).alias('meanTradeValue'),\n",
    "        F.sum('settlementValue').alias('netSumTradeValue'),\n",
    "        F.sum(F.abs('settlementValue')).alias('absSumTradeValue'),\n",
    "        F.countDistinct('date').alias('activeDays'),\n",
    "    )\n",
    "    .join(active_days_df, on = 'accountId')\n",
    ")\n",
    "\n",
    "display_df(trade_kpi_df)"
   ]
  },
  {
   "cell_type": "code",
   "execution_count": 51,
   "id": "34facbc1",
   "metadata": {},
   "outputs": [
    {
     "name": "stdout",
     "output_type": "stream",
     "text": [
      "+--------------+--------------+------+--------------+--------------+--------------+----------------+\n",
      "|25% percentile|50% percentile|  mean|75% percentile|90% percentile|99% percentile|99.9% percentile|\n",
      "+--------------+--------------+------+--------------+--------------+--------------+----------------+\n",
      "|           3.0|          15.0|119.51|          57.0|         183.0|        1528.0|         8365.84|\n",
      "+--------------+--------------+------+--------------+--------------+--------------+----------------+\n",
      "\n"
     ]
    }
   ],
   "source": [
    "(\n",
    "    trade_kpi_df\n",
    "    .agg(\n",
    "        F.round(F.expr('percentile(tradeFrequency, array(0.25))')[0], 2).alias('25% percentile'),\n",
    "        F.round(F.expr('percentile(tradeFrequency, array(0.5))')[0], 2).alias('50% percentile'),\n",
    "        F.round(F.mean('tradeFrequency'), 2).alias('mean'),\n",
    "        F.round(F.expr('percentile(tradeFrequency, array(0.75))')[0], 2).alias('75% percentile'),\n",
    "        F.round(F.expr('percentile(tradeFrequency, array(0.9))')[0], 2).alias('90% percentile'),\n",
    "        F.round(F.expr('percentile(tradeFrequency, array(0.99))')[0], 2).alias('99% percentile'),\n",
    "        F.round(F.expr('percentile(tradeFrequency, array(0.999))')[0], 2).alias('99.9% percentile'),\n",
    "    )\n",
    "    .show()\n",
    ")"
   ]
  },
  {
   "cell_type": "code",
   "execution_count": 52,
   "id": "4932f062",
   "metadata": {},
   "outputs": [
    {
     "name": "stdout",
     "output_type": "stream",
     "text": [
      "+--------------+--------------+-----+--------------+--------------+--------------+----------------+\n",
      "|25% percentile|50% percentile| mean|75% percentile|90% percentile|99% percentile|99.9% percentile|\n",
      "+--------------+--------------+-----+--------------+--------------+--------------+----------------+\n",
      "|           2.0|           9.0|21.95|          28.0|          58.0|         161.0|           256.0|\n",
      "+--------------+--------------+-----+--------------+--------------+--------------+----------------+\n",
      "\n"
     ]
    }
   ],
   "source": [
    "(\n",
    "    trade_kpi_df\n",
    "    .agg(\n",
    "        F.round(F.expr('percentile(activeDays, array(0.25))')[0], 2).alias('25% percentile'),\n",
    "        F.round(F.expr('percentile(activeDays, array(0.5))')[0], 2).alias('50% percentile'),\n",
    "        F.round(F.mean('activeDays'), 2).alias('mean'),\n",
    "        F.round(F.expr('percentile(activeDays, array(0.75))')[0], 2).alias('75% percentile'),\n",
    "        F.round(F.expr('percentile(activeDays, array(0.9))')[0], 2).alias('90% percentile'),\n",
    "        F.round(F.expr('percentile(activeDays, array(0.99))')[0], 2).alias('99% percentile'),\n",
    "        F.round(F.expr('percentile(activeDays, array(0.999))')[0], 2).alias('99.9% percentile'),\n",
    "    )\n",
    "    .show()\n",
    ")"
   ]
  },
  {
   "cell_type": "code",
   "execution_count": 53,
   "id": "9a55f696",
   "metadata": {},
   "outputs": [
    {
     "name": "stdout",
     "output_type": "stream",
     "text": [
      "+--------------+--------------+-----+--------------+--------------+--------------+----------------+\n",
      "|25% percentile|50% percentile| mean|75% percentile|90% percentile|99% percentile|99.9% percentile|\n",
      "+--------------+--------------+-----+--------------+--------------+--------------+----------------+\n",
      "|           2.0|           7.0|13.93|          19.0|          35.0|          89.0|           138.0|\n",
      "+--------------+--------------+-----+--------------+--------------+--------------+----------------+\n",
      "\n"
     ]
    }
   ],
   "source": [
    "(\n",
    "    trade_kpi_df\n",
    "    .agg(\n",
    "        F.round(F.expr('percentile(nBuyDays, array(0.25))')[0], 2).alias('25% percentile'),\n",
    "        F.round(F.expr('percentile(nBuyDays, array(0.5))')[0], 2).alias('50% percentile'),\n",
    "        F.round(F.mean('nBuyDays'), 2).alias('mean'),\n",
    "        F.round(F.expr('percentile(nBuyDays, array(0.75))')[0], 2).alias('75% percentile'),\n",
    "        F.round(F.expr('percentile(nBuyDays, array(0.9))')[0], 2).alias('90% percentile'),\n",
    "        F.round(F.expr('percentile(nBuyDays, array(0.99))')[0], 2).alias('99% percentile'),\n",
    "        F.round(F.expr('percentile(nBuyDays, array(0.999))')[0], 2).alias('99.9% percentile'),\n",
    "    )\n",
    "    .show()\n",
    ")"
   ]
  },
  {
   "cell_type": "code",
   "execution_count": 54,
   "id": "2270b6e1",
   "metadata": {},
   "outputs": [
    {
     "name": "stdout",
     "output_type": "stream",
     "text": [
      "+--------------+--------------+----+--------------+--------------+--------------+----------------+\n",
      "|25% percentile|50% percentile|mean|75% percentile|90% percentile|99% percentile|99.9% percentile|\n",
      "+--------------+--------------+----+--------------+--------------+--------------+----------------+\n",
      "|           0.0|           2.0|8.03|           9.0|          23.0|          75.0|           132.0|\n",
      "+--------------+--------------+----+--------------+--------------+--------------+----------------+\n",
      "\n"
     ]
    }
   ],
   "source": [
    "(\n",
    "    trade_kpi_df\n",
    "    .agg(\n",
    "        F.round(F.expr('percentile(nSellDays, array(0.25))')[0], 2).alias('25% percentile'),\n",
    "        F.round(F.expr('percentile(nSellDays, array(0.5))')[0], 2).alias('50% percentile'),\n",
    "        F.round(F.mean('nSellDays'), 2).alias('mean'),\n",
    "        F.round(F.expr('percentile(nSellDays, array(0.75))')[0], 2).alias('75% percentile'),\n",
    "        F.round(F.expr('percentile(nSellDays, array(0.9))')[0], 2).alias('90% percentile'),\n",
    "        F.round(F.expr('percentile(nSellDays, array(0.99))')[0], 2).alias('99% percentile'),\n",
    "        F.round(F.expr('percentile(nSellDays, array(0.999))')[0], 2).alias('99.9% percentile'),\n",
    "    )\n",
    "    .show()\n",
    ")"
   ]
  },
  {
   "cell_type": "code",
   "execution_count": 55,
   "id": "69836438",
   "metadata": {},
   "outputs": [
    {
     "name": "stdout",
     "output_type": "stream",
     "text": [
      "0\n"
     ]
    }
   ],
   "source": [
    "print(trade_kpi_df.count() - trade_kpi_df.dropna().count())"
   ]
  },
  {
   "cell_type": "code",
   "execution_count": 56,
   "id": "2ac8cec4",
   "metadata": {
    "scrolled": true
   },
   "outputs": [
    {
     "name": "stdout",
     "output_type": "stream",
     "text": [
      "4939239\n",
      "+---------+--------------+--------------+----------------+----------------+----------+--------+---------+-----------------+--------------------+--------------------+----------------------+----------------------+----------------+--------------+---------------+\n",
      "|accountId|tradeFrequency|meanTradeValue|netSumTradeValue|absSumTradeValue|activeDays|nBuyDays|nSellDays|return           |tradeFrequencyDecile|meanTradeValueDecile|netSumTradeValueDecile|absSumTradeValueDecile|activeDaysDecile|nBuyDaysDecile|nSellDaysDecile|\n",
      "+---------+--------------+--------------+----------------+----------------+----------+--------+---------+-----------------+--------------------+--------------------+----------------------+----------------------+----------------+--------------+---------------+\n",
      "|3111055  |2             |4.53E-5       |0.0             |9.06E-5         |1         |0       |0        |4.234237899220019|2                   |1                   |9                     |1                     |1               |1             |1              |\n",
      "|3798719  |2             |4.56E-5       |0.0             |9.12E-5         |1         |0       |0        |6.091806591117347|2                   |1                   |9                     |1                     |1               |1             |1              |\n",
      "|5401413  |2             |4.6E-5        |0.0             |9.2E-5          |1         |0       |0        |0.0              |2                   |1                   |9                     |1                     |1               |1             |1              |\n",
      "+---------+--------------+--------------+----------------+----------------+----------+--------+---------+-----------------+--------------------+--------------------+----------------------+----------------------+----------------+--------------+---------------+\n",
      "only showing top 3 rows\n",
      "\n"
     ]
    }
   ],
   "source": [
    "trade_output_df = (\n",
    "    trade_kpi_df\n",
    "    .join(return_df.select('accountId', 'return').dropDuplicates(), on = ['accountId'])\n",
    "    .dropna()\n",
    "    .withColumn('tradeFrequencyDecile', F.ntile(N_QUANTILES).over(Window.partitionBy().orderBy('tradeFrequency')))\n",
    "    .withColumn('meanTradeValueDecile', F.ntile(N_QUANTILES).over(Window.partitionBy().orderBy('meanTradeValue')))\n",
    "    .withColumn('netSumTradeValueDecile', F.ntile(N_QUANTILES).over(Window.partitionBy().orderBy('netSumTradeValue')))\n",
    "    .withColumn('absSumTradeValueDecile', F.ntile(N_QUANTILES).over(Window.partitionBy().orderBy('absSumTradeValue')))\n",
    "    .withColumn('activeDaysDecile', F.ntile(N_QUANTILES).over(Window.partitionBy().orderBy('activeDays')))\n",
    "    .withColumn('nBuyDaysDecile', F.ntile(N_QUANTILES).over(Window.partitionBy().orderBy('nBuyDays')))\n",
    "    .withColumn('nSellDaysDecile', F.ntile(N_QUANTILES).over(Window.partitionBy().orderBy('nSellDays')))\n",
    ")\n",
    "\n",
    "display_df(trade_output_df)"
   ]
  },
  {
   "cell_type": "code",
   "execution_count": 57,
   "id": "535e3153",
   "metadata": {},
   "outputs": [
    {
     "name": "stdout",
     "output_type": "stream",
     "text": [
      "+------------+\n",
      "|medianReturn|\n",
      "+------------+\n",
      "|       0.287|\n",
      "+------------+\n",
      "\n"
     ]
    }
   ],
   "source": [
    "(\n",
    "    trade_output_df\n",
    "    .agg(\n",
    "        F.round(F.expr('percentile(return, array(0.5))')[0], 3).alias('medianReturn')\n",
    "    )\n",
    "    .show()\n",
    ")"
   ]
  },
  {
   "cell_type": "code",
   "execution_count": 58,
   "id": "178daac4",
   "metadata": {},
   "outputs": [
    {
     "name": "stdout",
     "output_type": "stream",
     "text": [
      "+--------------------+------------+\n",
      "|tradeFrequencyDecile|medianReturn|\n",
      "+--------------------+------------+\n",
      "|                   1|       3.118|\n",
      "|                   2|       2.717|\n",
      "|                   3|       0.849|\n",
      "|                   4|       0.216|\n",
      "|                   5|       0.146|\n",
      "|                   6|       0.278|\n",
      "|                   7|       0.327|\n",
      "|                   8|       0.251|\n",
      "|                   9|       0.133|\n",
      "|                  10|       0.111|\n",
      "+--------------------+------------+\n",
      "\n"
     ]
    }
   ],
   "source": [
    "(\n",
    "    trade_output_df\n",
    "    .groupBy('tradeFrequencyDecile')\n",
    "    .agg(\n",
    "        F.round(F.expr('percentile(return, array(0.5))')[0], 3).alias('medianReturn')\n",
    "    )\n",
    "    .orderBy('tradeFrequencyDecile')\n",
    "    .show()\n",
    ")"
   ]
  },
  {
   "cell_type": "code",
   "execution_count": 59,
   "id": "530f71a7",
   "metadata": {},
   "outputs": [],
   "source": [
    "(\n",
    "    trade_output_df.write.mode('overwrite').parquet(PATH_OUTPUT + '/trade_output.parquet')\n",
    ")"
   ]
  },
  {
   "cell_type": "markdown",
   "id": "96f061bd",
   "metadata": {},
   "source": [
    "### identify block holders"
   ]
  },
  {
   "cell_type": "code",
   "execution_count": 60,
   "id": "723c64d0",
   "metadata": {},
   "outputs": [
    {
     "name": "stdout",
     "output_type": "stream",
     "text": [
      "18591\n",
      "+---------+----+\n",
      "|accountId|isBH|\n",
      "+---------+----+\n",
      "|12726878 |1   |\n",
      "|1284615  |1   |\n",
      "|7341968  |1   |\n",
      "+---------+----+\n",
      "only showing top 3 rows\n",
      "\n"
     ]
    }
   ],
   "source": [
    "bh_df = (\n",
    "    daily_portfolio_df\n",
    "    .select('date', 'symbol', 'accountId', 'heldShares')\n",
    "    .join(price_df.select('date', 'symbol', 'shrout'), on = ['date', 'symbol'])\n",
    "    .withColumn('ownership', F.col('heldShares') / F.col('shrout'))\n",
    "    .filter( (F.col('ownership') >= 0.01) & F.col('ownership').isNotNull() )\n",
    "    .select('accountId')\n",
    "    .distinct()\n",
    "    .withColumn('isBH', F.lit(1))\n",
    ")\n",
    "\n",
    "display_df(bh_df)"
   ]
  },
  {
   "cell_type": "code",
   "execution_count": 61,
   "id": "38fc40ac",
   "metadata": {},
   "outputs": [
    {
     "name": "stdout",
     "output_type": "stream",
     "text": [
      "7913478\n",
      "+---------+-------------------+----+\n",
      "|accountId|return             |isBH|\n",
      "+---------+-------------------+----+\n",
      "|204280   |-0.9326183300833186|0   |\n",
      "|8559295  |-0.9326133409253738|0   |\n",
      "|9290533  |-0.9319705453708675|0   |\n",
      "+---------+-------------------+----+\n",
      "only showing top 3 rows\n",
      "\n"
     ]
    }
   ],
   "source": [
    "bh_output_df = (\n",
    "    return_df\n",
    "    .select('accountId', 'return')\n",
    "    .dropna()\n",
    "    .join(bh_df, on = 'accountId', how = 'left')\n",
    "    .fillna(0, 'isBH')\n",
    ")\n",
    "\n",
    "display_df(bh_output_df)"
   ]
  },
  {
   "cell_type": "code",
   "execution_count": 62,
   "id": "5b5f1ed3",
   "metadata": {},
   "outputs": [
    {
     "name": "stdout",
     "output_type": "stream",
     "text": [
      "+----+--------------------+\n",
      "|isBH|medianTradeFrequency|\n",
      "+----+--------------------+\n",
      "|   0|               1.328|\n",
      "|   1|               0.492|\n",
      "+----+--------------------+\n",
      "\n"
     ]
    }
   ],
   "source": [
    "(\n",
    "    bh_output_df\n",
    "    .groupBy('isBH')\n",
    "    .agg(\n",
    "        F.round(F.expr('percentile(return, array(0.5))')[0], 3).alias('medianTradeFrequency')\n",
    "    )\n",
    "    .show()\n",
    ")"
   ]
  },
  {
   "cell_type": "code",
   "execution_count": 63,
   "id": "5049fb7a",
   "metadata": {},
   "outputs": [],
   "source": [
    "(\n",
    "    bh_output_df.write.mode('overwrite').parquet(PATH_OUTPUT + '/bhOutput.parquet')\n",
    ")"
   ]
  },
  {
   "cell_type": "markdown",
   "id": "08c60934",
   "metadata": {},
   "source": [
    "### number of stocks within initial portfolio"
   ]
  },
  {
   "cell_type": "code",
   "execution_count": 64,
   "id": "cab6bed6",
   "metadata": {},
   "outputs": [
    {
     "name": "stdout",
     "output_type": "stream",
     "text": [
      "4217770\n",
      "+---------+-----------------------------+\n",
      "|accountId|nStocksWithinInitialPortfolio|\n",
      "+---------+-----------------------------+\n",
      "|541478   |1                            |\n",
      "|13942931 |6                            |\n",
      "|1457238  |3                            |\n",
      "+---------+-----------------------------+\n",
      "only showing top 3 rows\n",
      "\n"
     ]
    }
   ],
   "source": [
    "n_stocks_within_initial_portfolio_df = (\n",
    "    portfolio_df\n",
    "    .groupBy('accountId')\n",
    "    .agg(\n",
    "        F.count(F.lit(1)).alias('nStocksWithinInitialPortfolio')\n",
    "    )\n",
    "    .dropna()\n",
    ")\n",
    "\n",
    "display_df(n_stocks_within_initial_portfolio_df)"
   ]
  },
  {
   "cell_type": "code",
   "execution_count": 65,
   "id": "cb2e38a0",
   "metadata": {},
   "outputs": [
    {
     "name": "stdout",
     "output_type": "stream",
     "text": [
      "4208853\n",
      "+---------+------------------+-----------------------------+-----------------------------------+\n",
      "|accountId|return            |nStocksWithinInitialPortfolio|nStocksWithinInitialPortfolioDecile|\n",
      "+---------+------------------+-----------------------------+-----------------------------------+\n",
      "|26       |6.7002053388090355|1                            |1                                  |\n",
      "|1677     |2.405136702568351 |1                            |1                                  |\n",
      "|3764     |2.084406294706724 |1                            |1                                  |\n",
      "+---------+------------------+-----------------------------+-----------------------------------+\n",
      "only showing top 3 rows\n",
      "\n"
     ]
    }
   ],
   "source": [
    "n_stocks_within_initial_portfolio_output_df = (\n",
    "    return_df\n",
    "    .select('accountId', 'return')\n",
    "    .dropna()\n",
    "    .join(n_stocks_within_initial_portfolio_df, on = 'accountId', how = 'inner')\n",
    "    .withColumn('nStocksWithinInitialPortfolioDecile', F.ntile(N_QUANTILES).over(Window.partitionBy().orderBy('nStocksWithinInitialPortfolio')))\n",
    ")\n",
    "\n",
    "display_df(n_stocks_within_initial_portfolio_output_df)"
   ]
  },
  {
   "cell_type": "code",
   "execution_count": 66,
   "id": "864f21c5",
   "metadata": {},
   "outputs": [
    {
     "name": "stdout",
     "output_type": "stream",
     "text": [
      "+-----------------------------------+------------+\n",
      "|nStocksWithinInitialPortfolioDecile|medianReturn|\n",
      "+-----------------------------------+------------+\n",
      "|                                  1|       3.974|\n",
      "|                                  2|       3.983|\n",
      "|                                  3|       3.968|\n",
      "|                                  4|       3.945|\n",
      "|                                  5|       3.968|\n",
      "|                                  6|       3.945|\n",
      "|                                  7|       3.917|\n",
      "|                                  8|        3.81|\n",
      "|                                  9|       2.418|\n",
      "|                                 10|       0.748|\n",
      "+-----------------------------------+------------+\n",
      "\n"
     ]
    }
   ],
   "source": [
    "(\n",
    "    n_stocks_within_initial_portfolio_output_df\n",
    "    .groupBy('nStocksWithinInitialPortfolioDecile')\n",
    "    .agg(\n",
    "        F.round(F.expr('percentile(return, array(0.5))')[0], 3).alias('medianReturn')\n",
    "    )\n",
    "    .orderBy('nStocksWithinInitialPortfolioDecile')\n",
    "    .show()\n",
    ")"
   ]
  },
  {
   "cell_type": "code",
   "execution_count": 67,
   "id": "8613fe93",
   "metadata": {},
   "outputs": [],
   "source": [
    "(\n",
    "    n_stocks_within_initial_portfolio_output_df.write.mode('overwrite').parquet(PATH_OUTPUT + '/n_initial_portfolio.parquet')\n",
    ")"
   ]
  },
  {
   "cell_type": "markdown",
   "id": "fb7933d8",
   "metadata": {},
   "source": [
    "### number of stocks within final portfolio"
   ]
  },
  {
   "cell_type": "code",
   "execution_count": 68,
   "id": "b6f432cb",
   "metadata": {},
   "outputs": [
    {
     "name": "stdout",
     "output_type": "stream",
     "text": [
      "7895191\n",
      "+---------+---------------------------+\n",
      "|accountId|nStocksWithinFinalPortfolio|\n",
      "+---------+---------------------------+\n",
      "|3305619  |33                         |\n",
      "|3873383  |40                         |\n",
      "|6391901  |42                         |\n",
      "+---------+---------------------------+\n",
      "only showing top 3 rows\n",
      "\n"
     ]
    }
   ],
   "source": [
    "n_stocks_within_final_portfolio_df = (\n",
    "    daily_portfolio_df\n",
    "    .withColumn('rowNumber', F.row_number().over(Window.partitionBy('accountId', 'symbol').orderBy('date')))\n",
    "    .withColumn('maxRowNumber', F.max('rowNumber').over(Window.partitionBy('accountId', 'symbol')))\n",
    "    .filter(F.col('rowNumber') == F.col('maxRowNumber'))\n",
    "    .filter(F.col('heldShares') > 0)\n",
    "    .withColumn('date', F.lit(MAX_PRICE_DATE))\n",
    "    .join(price_df.select('date', 'symbol', 'close_price'), on = ['date', 'symbol'], how = 'left')\n",
    "    .dropna(subset = ['close_price'])\n",
    "    .groupBy('accountId')\n",
    "    .agg(\n",
    "        F.countDistinct('symbol').alias('nStocksWithinFinalPortfolio')\n",
    "    )   \n",
    ")\n",
    "\n",
    "display_df(n_stocks_within_final_portfolio_df)"
   ]
  },
  {
   "cell_type": "code",
   "execution_count": 69,
   "id": "d3a10563",
   "metadata": {},
   "outputs": [
    {
     "name": "stdout",
     "output_type": "stream",
     "text": [
      "7895191\n",
      "+---------+------------------+---------------------------+---------------------------------+\n",
      "|accountId|return            |nStocksWithinFinalPortfolio|nStocksWithinFinalPortfolioDecile|\n",
      "+---------+------------------+---------------------------+---------------------------------+\n",
      "|26       |6.7002053388090355|1                          |1                                |\n",
      "|1677     |2.405136702568351 |1                          |1                                |\n",
      "|3506     |3.1175450762829398|1                          |1                                |\n",
      "+---------+------------------+---------------------------+---------------------------------+\n",
      "only showing top 3 rows\n",
      "\n"
     ]
    }
   ],
   "source": [
    "n_stocks_within_final_portfolio_output_df = (\n",
    "    return_df\n",
    "    .select('accountId', 'return')\n",
    "    .dropna()\n",
    "    .join(n_stocks_within_final_portfolio_df, on = 'accountId', how = 'inner')\n",
    "    .withColumn('nStocksWithinFinalPortfolioDecile', F.ntile(N_QUANTILES).over(Window.partitionBy().orderBy('nStocksWithinFinalPortfolio')))\n",
    ")\n",
    "\n",
    "display_df(n_stocks_within_final_portfolio_output_df)"
   ]
  },
  {
   "cell_type": "code",
   "execution_count": 70,
   "id": "932ef467",
   "metadata": {},
   "outputs": [
    {
     "name": "stdout",
     "output_type": "stream",
     "text": [
      "+---------------------------------+------------+\n",
      "|nStocksWithinFinalPortfolioDecile|medianReturn|\n",
      "+---------------------------------+------------+\n",
      "|                                1|       3.699|\n",
      "|                                2|       3.699|\n",
      "|                                3|       3.699|\n",
      "|                                4|       3.693|\n",
      "|                                5|       2.742|\n",
      "|                                6|       1.041|\n",
      "|                                7|       0.204|\n",
      "|                                8|       0.233|\n",
      "|                                9|       0.238|\n",
      "|                               10|       0.154|\n",
      "+---------------------------------+------------+\n",
      "\n"
     ]
    }
   ],
   "source": [
    "(\n",
    "    n_stocks_within_final_portfolio_output_df\n",
    "    .groupBy('nStocksWithinFinalPortfolioDecile')\n",
    "    .agg(\n",
    "        F.round(F.expr('percentile(return, array(0.5))')[0], 3).alias('medianReturn')\n",
    "    )\n",
    "    .orderBy('nStocksWithinFinalPortfolioDecile')\n",
    "    .show()\n",
    ")"
   ]
  },
  {
   "cell_type": "code",
   "execution_count": 71,
   "id": "92ee5b67",
   "metadata": {},
   "outputs": [],
   "source": [
    "(\n",
    "    n_stocks_within_final_portfolio_output_df.write.mode('overwrite').parquet(PATH_OUTPUT + '/n_final_portfolio.parquet')\n",
    ")"
   ]
  },
  {
   "cell_type": "markdown",
   "id": "04a87605",
   "metadata": {},
   "source": [
    "### turnover"
   ]
  },
  {
   "cell_type": "code",
   "execution_count": 72,
   "id": "c1ab037f",
   "metadata": {
    "scrolled": true
   },
   "outputs": [
    {
     "name": "stdout",
     "output_type": "stream",
     "text": [
      "7895191\n",
      "+---------+--------+--------------+------------------+\n",
      "|accountId|turnover|turnoverDecile|return            |\n",
      "+---------+--------+--------------+------------------+\n",
      "|26       |0.0     |1             |6.7002053388090355|\n",
      "|1677     |0.0     |1             |2.405136702568351 |\n",
      "|2453     |0.0     |1             |6.066842661350965 |\n",
      "+---------+--------+--------------+------------------+\n",
      "only showing top 3 rows\n",
      "\n"
     ]
    }
   ],
   "source": [
    "turnover_df = (\n",
    "    trade_kpi_df\n",
    "    .join(final_portfolio_value_df, on =['accountId'], how = 'right')\n",
    "    .fillna(0, subset = ['absSumTradeValue'])\n",
    "    .withColumn('turnover', F.col('absSumTradeValue') / F.col('finalPortfolioValue'))\n",
    "    .join(return_df.select('accountId', 'return'), on = 'accountId')\n",
    "    .withColumn('turnoverDecile', F.ntile(N_QUANTILES).over(Window.partitionBy().orderBy(F.col('turnover'))))\n",
    "    .select(\n",
    "        'accountId',\n",
    "        'turnover',\n",
    "        'turnoverDecile',\n",
    "        'return'\n",
    "    )\n",
    ")\n",
    "\n",
    "display_df(turnover_df)"
   ]
  },
  {
   "cell_type": "code",
   "execution_count": 73,
   "id": "f4eee8cf",
   "metadata": {},
   "outputs": [
    {
     "name": "stdout",
     "output_type": "stream",
     "text": [
      "+--------------+------------+\n",
      "|turnoverDecile|medianReturn|\n",
      "+--------------+------------+\n",
      "|             1|       4.535|\n",
      "|             2|       4.519|\n",
      "|             3|       4.519|\n",
      "|             4|       4.384|\n",
      "|             5|       2.723|\n",
      "|             6|       0.508|\n",
      "|             7|       -0.01|\n",
      "|             8|       0.022|\n",
      "|             9|       0.086|\n",
      "|            10|        0.11|\n",
      "+--------------+------------+\n",
      "\n"
     ]
    }
   ],
   "source": [
    "(\n",
    "    turnover_df\n",
    "    .groupBy('turnoverDecile')\n",
    "    .agg(\n",
    "        F.round(F.expr('percentile(return, array(0.5))')[0], 3).alias('medianReturn')\n",
    "    )\n",
    "    .orderBy('turnoverDecile')\n",
    "    .show()\n",
    ")"
   ]
  },
  {
   "cell_type": "code",
   "execution_count": 74,
   "id": "24a07c87",
   "metadata": {},
   "outputs": [],
   "source": [
    "(\n",
    "    turnover_df.write.mode('overwrite').parquet(PATH_OUTPUT + '/turnover.parquet')\n",
    ")"
   ]
  },
  {
   "cell_type": "code",
   "execution_count": null,
   "id": "0658b581",
   "metadata": {},
   "outputs": [],
   "source": []
  }
 ],
 "metadata": {
  "kernelspec": {
   "display_name": "Python 3 (ipykernel)",
   "language": "python",
   "name": "python3"
  },
  "language_info": {
   "codemirror_mode": {
    "name": "ipython",
    "version": 3
   },
   "file_extension": ".py",
   "mimetype": "text/x-python",
   "name": "python",
   "nbconvert_exporter": "python",
   "pygments_lexer": "ipython3",
   "version": "3.9.11"
  }
 },
 "nbformat": 4,
 "nbformat_minor": 5
}
