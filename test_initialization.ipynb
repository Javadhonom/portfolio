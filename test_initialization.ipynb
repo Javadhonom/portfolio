{
 "cells": [
  {
   "cell_type": "code",
   "execution_count": 1,
   "id": "910bae7f",
   "metadata": {},
   "outputs": [],
   "source": [
    "from pyspark import SparkConf, SparkContext\n",
    "import numpy as np\n",
    "import pandas as pd\n",
    "import matplotlib.pyplot as plt\n",
    "# import pyarrow.parquet as pq\n",
    "import os\n",
    "from pyspark.sql import SparkSession\n",
    "import pyspark.sql.types as T\n",
    "import pyspark.sql.functions as F\n",
    "from functools import reduce\n",
    "from pyspark.sql.window import Window\n",
    "import sys\n",
    "path_hadoop = \"C:\\Program Files\\Python38\\winutils-master\\hadoop-3.0.0\"\n",
    "java_home = \"C:\\Program Files\\Java\\jdk-10.0.2\"\n",
    "spark_home = \"C:\\ProgramData\\Anaconda3\\pkgs\\pyspark-3.1.2-pyhd3eb1b0_0\\site-packages\\pyspark\"\n",
    "os.environ['HADOOP_HOME'] = path_hadoop\n",
    "os.environ['JAVA_HOME'] = java_home\n",
    "os.environ['Spark_HOME'] = spark_home\n",
    "sys.path.append(path_hadoop + \"\\bin\")\n",
    "sys.path.append(java_home + \"\\bin\")"
   ]
  },
  {
   "cell_type": "code",
   "execution_count": 2,
   "id": "c1c44936",
   "metadata": {},
   "outputs": [],
   "source": [
    "conf = SparkConf()\n",
    "(conf\n",
    "# .set('spark.driver.memory', '100g')\n",
    "# .set('spark.executer.cores', '40')\n",
    "# .set('spark.shuffle.service.index.cache.size', '3g')\n",
    ".set(\"spark.sql.execution.arrow.pyspark.enabled\", \"true\")\n",
    "# .set('spark.driver.maxResultSize',  '0')\n",
    ".setAppName('Practice') \n",
    ")\n",
    "sc = SparkContext.getOrCreate(conf=conf)\n",
    "spark = SparkSession(sc)"
   ]
  },
  {
   "cell_type": "code",
   "execution_count": 3,
   "id": "add080cc",
   "metadata": {},
   "outputs": [
    {
     "name": "stdout",
     "output_type": "stream",
     "text": [
      "+---+-----+\n",
      "| id|label|\n",
      "+---+-----+\n",
      "|  1|  foo|\n",
      "|  2|  bar|\n",
      "+---+-----+\n",
      "\n"
     ]
    }
   ],
   "source": [
    "df = spark.createDataFrame(\n",
    "    [(1, \"foo\"), (2, \"bar\")], [\"id\", \"label\"] \n",
    ")\n",
    "\n",
    "# df.printSchema()\n",
    "df.show()"
   ]
  },
  {
   "cell_type": "code",
   "execution_count": 4,
   "id": "dfdf675a",
   "metadata": {},
   "outputs": [
    {
     "name": "stdout",
     "output_type": "stream",
     "text": [
      "Requirement already satisfied: pyspark in c:\\programdata\\anaconda3\\lib\\site-packages (3.2.1)Note: you may need to restart the kernel to use updated packages.\n",
      "\n",
      "Requirement already satisfied: py4j==0.10.9.3 in c:\\programdata\\anaconda3\\lib\\site-packages (from pyspark) (0.10.9.3)\n"
     ]
    }
   ],
   "source": [
    "pip install --upgrade pyspark\n"
   ]
  },
  {
   "cell_type": "code",
   "execution_count": null,
   "id": "9a3d8110",
   "metadata": {
    "scrolled": false
   },
   "outputs": [],
   "source": [
    "df.write.mode('overwrite').csv(\"raw_trade_data.csv\")"
   ]
  },
  {
   "cell_type": "code",
   "execution_count": null,
   "id": "e1e7fbf0",
   "metadata": {},
   "outputs": [],
   "source": [
    "pd.read_csv(\"raw_trade_data.csv\")"
   ]
  },
  {
   "cell_type": "code",
   "execution_count": null,
   "id": "cb3d03cc",
   "metadata": {},
   "outputs": [],
   "source": [
    "\n",
    "data = [('James','','Smith','1991-04-01','M',3000),\n",
    "  ('Michael','Rose','','2000-05-19','M',4000),\n",
    "  ('Robert','','Williams','1978-09-05','M',4000),\n",
    "  ('Maria','Anne','Jones','1967-12-01','F',4000),\n",
    "  ('Jen','Mary','Brown','1980-02-17','F',-1)\n",
    "]\n",
    "\n",
    "columns = [\"firstname\",\"middlename\",\"lastname\",\"dob\",\"gender\",\"salary\"]\n",
    "df = spark.createDataFrame(data=data, schema = columns)\n",
    "df.show()"
   ]
  },
  {
   "cell_type": "code",
   "execution_count": null,
   "id": "693c1569",
   "metadata": {},
   "outputs": [],
   "source": [
    "spark.version"
   ]
  },
  {
   "cell_type": "code",
   "execution_count": null,
   "id": "aa156739",
   "metadata": {},
   "outputs": [],
   "source": []
  }
 ],
 "metadata": {
  "kernelspec": {
   "display_name": "Python 3 (ipykernel)",
   "language": "python",
   "name": "python3"
  },
  "language_info": {
   "codemirror_mode": {
    "name": "ipython",
    "version": 3
   },
   "file_extension": ".py",
   "mimetype": "text/x-python",
   "name": "python",
   "nbconvert_exporter": "python",
   "pygments_lexer": "ipython3",
   "version": "3.9.11"
  }
 },
 "nbformat": 4,
 "nbformat_minor": 5
}
