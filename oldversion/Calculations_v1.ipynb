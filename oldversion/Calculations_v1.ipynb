{
 "cells": [
  {
   "cell_type": "markdown",
   "id": "b125ac61",
   "metadata": {},
   "source": [
    "## initialization"
   ]
  },
  {
   "cell_type": "markdown",
   "id": "9d7e8804",
   "metadata": {},
   "source": [
    "### imports"
   ]
  },
  {
   "cell_type": "code",
   "execution_count": 1,
   "id": "d842d9cc",
   "metadata": {},
   "outputs": [],
   "source": [
    "from initailFunctionsPath import *\n",
    "PATH_TRADE = \"/home/user1/Data/\"\n",
    "PATH_PORTFOLIO = \"/home/user1/Data/Portfolio/{}\"\n",
    "PRICE_PATH = \"/home/user1/Data/{}\"\n",
    "VALID_SYMBOLS_PATH = \"/home/user1/Data/\"\n",
    "PATH_OUTPUT = \"/home/user1/Data/Outputs/\""
   ]
  },
  {
   "cell_type": "markdown",
   "id": "469fdf04",
   "metadata": {},
   "source": [
    "### Spark instaniation"
   ]
  },
  {
   "cell_type": "code",
   "execution_count": 2,
   "id": "e36e89f9",
   "metadata": {
    "scrolled": false
   },
   "outputs": [
    {
     "name": "stderr",
     "output_type": "stream",
     "text": [
      "22/03/07 09:47:47 WARN Utils: Your hostname, user1-ubuntu resolves to a loopback address: 127.0.1.1; using 172.16.32.107 instead (on interface eth0)\n",
      "22/03/07 09:47:47 WARN Utils: Set SPARK_LOCAL_IP if you need to bind to another address\n",
      "Using Spark's default log4j profile: org/apache/spark/log4j-defaults.properties\n",
      "Setting default log level to \"WARN\".\n",
      "To adjust logging level use sc.setLogLevel(newLevel). For SparkR, use setLogLevel(newLevel).\n",
      "22/03/07 09:47:48 WARN NativeCodeLoader: Unable to load native-hadoop library for your platform... using builtin-java classes where applicable\n"
     ]
    }
   ],
   "source": [
    "conf = SparkConf()\n",
    "(conf\n",
    ".set('spark.driver.memory', '130g')\n",
    ".set('spark.executer.cores', '58')\n",
    ".set('spark.shuffle.service.index.cache.size', '1g')\n",
    ".setAppName('Practice') )\n",
    "sc = SparkContext.getOrCreate(conf=conf)\n",
    "spark = SparkSession(sc)"
   ]
  },
  {
   "cell_type": "markdown",
   "id": "46c797ab",
   "metadata": {},
   "source": [
    "## data inputs"
   ]
  },
  {
   "cell_type": "markdown",
   "id": "68dab27c",
   "metadata": {},
   "source": [
    "### load daily price and shrout data"
   ]
  },
  {
   "cell_type": "code",
   "execution_count": 3,
   "id": "a00fd371",
   "metadata": {},
   "outputs": [
    {
     "name": "stderr",
     "output_type": "stream",
     "text": [
      "22/03/07 09:48:12 WARN DAGScheduler: Broadcasting large task binary with size 17.9 MiB\n",
      "                                                                                \r"
     ]
    },
    {
     "name": "stdout",
     "output_type": "stream",
     "text": [
      "71822\n"
     ]
    },
    {
     "name": "stderr",
     "output_type": "stream",
     "text": [
      "22/03/07 09:48:41 WARN DAGScheduler: Broadcasting large task binary with size 17.9 MiB\n"
     ]
    },
    {
     "name": "stdout",
     "output_type": "stream",
     "text": [
      "+--------+------+-----------+--------------------+------+---------+\n",
      "|date    |symbol|close_price|close_price_adjusted|shrout|mktcap   |\n",
      "+--------+------+-----------+--------------------+------+---------+\n",
      "|13980221|آ س پ |1366.0     |1249.0              |9.0E8 |122940.0 |\n",
      "|13980125|آتیمس |30009.0    |30380.0             |1.0E9 |3000900.0|\n",
      "|13980202|آتیمس |30880.0    |31262.0             |1.0E9 |3088000.0|\n",
      "+--------+------+-----------+--------------------+------+---------+\n",
      "only showing top 3 rows\n",
      "\n"
     ]
    }
   ],
   "source": [
    "price_df = (\n",
    "    spark.read.parquet(PRICE_PATH.format('Cleaned_Stock_Prices_14001127.parquet'))\n",
    "    .filter(F.col('jalaliDate').between(MIN_ANALYSIS_DATE, MAX_ANALYSIS_DATE))\n",
    "    .select(\n",
    "        F.col('jalaliDate').alias('date'),\n",
    "        F.col('name').alias('symbol'),\n",
    "        'close_price',\n",
    "        'close_price_adjusted',\n",
    "        'shrout',\n",
    "        (F.col('MarketCap') / 10**7).alias('mktcap')\n",
    "    )\n",
    "    .dropDuplicates()\n",
    ")\n",
    "\n",
    "price_df = replace_arabic_characters_and_correct_symbol_names(price_df)\n",
    "\n",
    "display_df(price_df)"
   ]
  },
  {
   "cell_type": "code",
   "execution_count": 4,
   "id": "5f9068e1",
   "metadata": {},
   "outputs": [
    {
     "name": "stderr",
     "output_type": "stream",
     "text": [
      "22/03/07 09:48:42 WARN DAGScheduler: Broadcasting large task binary with size 17.9 MiB\n",
      "[Stage 9:=========================================>            (155 + 45) / 200]\r"
     ]
    },
    {
     "name": "stdout",
     "output_type": "stream",
     "text": [
      "+--------+--------+\n",
      "|min_date|max_date|\n",
      "+--------+--------+\n",
      "|13980105|13980329|\n",
      "+--------+--------+\n",
      "\n"
     ]
    },
    {
     "name": "stderr",
     "output_type": "stream",
     "text": [
      "                                                                                \r"
     ]
    }
   ],
   "source": [
    "min_max(price_df)"
   ]
  },
  {
   "cell_type": "code",
   "execution_count": 5,
   "id": "8dcc44b9",
   "metadata": {},
   "outputs": [
    {
     "name": "stderr",
     "output_type": "stream",
     "text": [
      "22/03/07 09:48:46 WARN DAGScheduler: Broadcasting large task binary with size 17.9 MiB\n",
      "22/03/07 09:48:49 WARN DAGScheduler: Broadcasting large task binary with size 17.9 MiB\n",
      "22/03/07 09:48:52 WARN DAGScheduler: Broadcasting large task binary with size 17.9 MiB\n",
      "22/03/07 09:49:00 WARN DAGScheduler: Broadcasting large task binary with size 17.9 MiB\n",
      "                                                                                \r"
     ]
    },
    {
     "name": "stdout",
     "output_type": "stream",
     "text": [
      "+-------------+\n",
      "|count(symbol)|\n",
      "+-------------+\n",
      "|         1329|\n",
      "+-------------+\n",
      "\n"
     ]
    },
    {
     "name": "stderr",
     "output_type": "stream",
     "text": [
      "22/03/07 09:49:01 WARN DAGScheduler: Broadcasting large task binary with size 17.9 MiB\n",
      "22/03/07 09:49:04 WARN DAGScheduler: Broadcasting large task binary with size 17.9 MiB\n",
      "                                                                                \r"
     ]
    },
    {
     "name": "stdout",
     "output_type": "stream",
     "text": [
      "+-------------+\n",
      "|count(symbol)|\n",
      "+-------------+\n",
      "|         1252|\n",
      "+-------------+\n",
      "\n"
     ]
    },
    {
     "name": "stderr",
     "output_type": "stream",
     "text": [
      "22/03/07 09:49:05 WARN DAGScheduler: Broadcasting large task binary with size 17.9 MiB\n",
      "22/03/07 09:49:08 WARN DAGScheduler: Broadcasting large task binary with size 17.9 MiB\n"
     ]
    },
    {
     "name": "stdout",
     "output_type": "stream",
     "text": [
      "+-------------+\n",
      "|count(symbol)|\n",
      "+-------------+\n",
      "|         1309|\n",
      "+-------------+\n",
      "\n"
     ]
    },
    {
     "name": "stderr",
     "output_type": "stream",
     "text": [
      "                                                                                \r"
     ]
    }
   ],
   "source": [
    "MIN_PRICE_DATE = price_df.agg(F.min('date')).collect()[0][0]\n",
    "MAX_PRICE_DATE = price_df.agg(F.max('date')).collect()[0][0]\n",
    "\n",
    "price_df.agg(F.countDistinct('symbol')).show()\n",
    "price_df.filter(F.col('date') == MIN_PRICE_DATE).agg(F.countDistinct('symbol')).show()\n",
    "price_df.filter(F.col('date') == MAX_PRICE_DATE).agg(F.countDistinct('symbol')).show()"
   ]
  },
  {
   "cell_type": "markdown",
   "id": "cfe5a63c",
   "metadata": {},
   "source": [
    "### load valid symbols data"
   ]
  },
  {
   "cell_type": "code",
   "execution_count": 6,
   "id": "05f80d1a",
   "metadata": {},
   "outputs": [
    {
     "name": "stdout",
     "output_type": "stream",
     "text": [
      "1284\n",
      "+------+\n",
      "|symbol|\n",
      "+------+\n",
      "|ختوقا |\n",
      "|همراه |\n",
      "|بالاس |\n",
      "+------+\n",
      "only showing top 3 rows\n",
      "\n"
     ]
    }
   ],
   "source": [
    "valid_symbols_df = (\n",
    "    spark.read.parquet(VALID_SYMBOLS_PATH + '{}'.format('validSymbols.parquet'))\n",
    ")\n",
    "\n",
    "display_df(valid_symbols_df)"
   ]
  },
  {
   "cell_type": "markdown",
   "id": "ded1ec79",
   "metadata": {},
   "source": [
    "## data preparation"
   ]
  },
  {
   "cell_type": "markdown",
   "id": "7742e756",
   "metadata": {},
   "source": [
    "### prepare trade data"
   ]
  },
  {
   "cell_type": "code",
   "execution_count": 7,
   "id": "f685558c",
   "metadata": {
    "scrolled": true
   },
   "outputs": [
    {
     "name": "stderr",
     "output_type": "stream",
     "text": [
      "[Stage 56:=======================================================>(66 + 1) / 67]\r"
     ]
    },
    {
     "name": "stdout",
     "output_type": "stream",
     "text": [
      "26223382\n",
      "+--------+------+----------------+------+------------+----------+--------------------+------------------------------------+------------------------------------+\n",
      "|date    |time  |secondsWithinDay|symbol|nTradeShares|tradePrice|tradeSettlementValue|buyerAccountId                      |sellerAccountId                     |\n",
      "+--------+------+----------------+------+------------+----------+--------------------+------------------------------------+------------------------------------+\n",
      "|13980110|122306|12963606        |ثاباد |500         |2297.0    |0.11485             |993C6DD6-49B4-47F3-A893-9064F762C446|D1A83C66-FC1F-4D5B-8A3D-CB925246DC1A|\n",
      "|13980110|94035 |12963635        |ثاباد |8000        |2321.0    |1.8568              |EB3B2010-24BA-4E2B-A438-58BEB542542D|DF9E0BAC-E4EF-450F-A5AA-1F62CF9A2A5E|\n",
      "|13980110|92919 |12963619        |ثاباد |500         |2290.0    |0.1145              |8AFD82A0-75A6-4187-8CF9-D6A6B9A99978|81D61F41-D929-4E4E-A721-6A5AC2C3336D|\n",
      "+--------+------+----------------+------+------------+----------+--------------------+------------------------------------+------------------------------------+\n",
      "only showing top 3 rows\n",
      "\n"
     ]
    },
    {
     "name": "stderr",
     "output_type": "stream",
     "text": [
      "                                                                                \r"
     ]
    }
   ],
   "source": [
    "trade_df = (\n",
    "    spark.read.parquet(PATH_TRADE + \"{}\".format(\"trade_df.parquet\"))\n",
    ")\n",
    "display_df(trade_df)\n",
    "# Note: 'time' columns is not reliable!"
   ]
  },
  {
   "cell_type": "code",
   "execution_count": 8,
   "id": "770cc438",
   "metadata": {},
   "outputs": [
    {
     "name": "stdout",
     "output_type": "stream",
     "text": [
      "missing nTradeShares:  0.0\n",
      "missing tradeSettlementValue:  0.0\n"
     ]
    }
   ],
   "source": [
    "print('missing nTradeShares: ', round(trade_df.filter(F.col('nTradeShares') == 0).count() / trade_df.count(), 5))\n",
    "print('missing tradeSettlementValue: ', round(trade_df.filter(F.col('tradeSettlementValue') == 0).count() / trade_df.count(), 5))"
   ]
  },
  {
   "cell_type": "markdown",
   "id": "fc780728",
   "metadata": {},
   "source": [
    "### prepare initial portfolio data"
   ]
  },
  {
   "cell_type": "code",
   "execution_count": 9,
   "id": "9740e5b9",
   "metadata": {},
   "outputs": [
    {
     "name": "stderr",
     "output_type": "stream",
     "text": [
      "[Stage 73:=====================================================>  (48 + 2) / 50]\r"
     ]
    },
    {
     "name": "stdout",
     "output_type": "stream",
     "text": [
      "11503599\n",
      "+------------------------------------+--------+------+-----------+\n",
      "|accountId                           |date    |symbol|nHeldShares|\n",
      "+------------------------------------+--------+------+-----------+\n",
      "|9F4FDECE-0613-4162-8EFB-87A683771C14|13980105|خپارس |53000      |\n",
      "|6BD95B55-3219-4F17-9EEA-09A450C7ADB8|13980105|ونفت  |496        |\n",
      "|34149238-6FE5-4291-9518-4C188BA3B22B|13980105|وخارزم|18626      |\n",
      "+------------------------------------+--------+------+-----------+\n",
      "only showing top 3 rows\n",
      "\n"
     ]
    },
    {
     "name": "stderr",
     "output_type": "stream",
     "text": [
      "                                                                                \r"
     ]
    }
   ],
   "source": [
    "portfolio_df = spark.read.parquet(\n",
    "    PATH_PORTFOLIO + \"{}\".format(\"portfolio_df.parquet\")\n",
    "    )\n",
    "display_df(portfolio_df)"
   ]
  },
  {
   "cell_type": "code",
   "execution_count": 10,
   "id": "5f7b8d91",
   "metadata": {},
   "outputs": [
    {
     "name": "stderr",
     "output_type": "stream",
     "text": [
      "[Stage 78:==================================================>     (45 + 5) / 50]\r"
     ]
    },
    {
     "name": "stdout",
     "output_type": "stream",
     "text": [
      "8807831\n",
      "+------+------------------------------------+--------+-----------+\n",
      "|symbol|accountId                           |date    |nHeldShares|\n",
      "+------+------------------------------------+--------+-----------+\n",
      "|خپارس |9F4FDECE-0613-4162-8EFB-87A683771C14|13980105|53000      |\n",
      "|ونفت  |6BD95B55-3219-4F17-9EEA-09A450C7ADB8|13980105|496        |\n",
      "|وخارزم|34149238-6FE5-4291-9518-4C188BA3B22B|13980105|18626      |\n",
      "+------+------------------------------------+--------+-----------+\n",
      "only showing top 3 rows\n",
      "\n"
     ]
    },
    {
     "name": "stderr",
     "output_type": "stream",
     "text": [
      "                                                                                \r"
     ]
    }
   ],
   "source": [
    "portfolio_df = (\n",
    "    portfolio_df\n",
    "    .join(valid_symbols_df, on = ['symbol'], how = 'inner')\n",
    ")\n",
    "\n",
    "display_df(portfolio_df)"
   ]
  },
  {
   "cell_type": "code",
   "execution_count": 11,
   "id": "ea4552df",
   "metadata": {},
   "outputs": [
    {
     "data": {
      "text/plain": [
       "0"
      ]
     },
     "execution_count": 11,
     "metadata": {},
     "output_type": "execute_result"
    }
   ],
   "source": [
    "(\n",
    "    portfolio_df\n",
    "    .filter(F.col('nHeldShares') < 0)\n",
    "    .count()\n",
    ")"
   ]
  },
  {
   "cell_type": "markdown",
   "id": "14e36b40",
   "metadata": {},
   "source": [
    "#### check symbols"
   ]
  },
  {
   "cell_type": "code",
   "execution_count": 12,
   "id": "c87b783c",
   "metadata": {},
   "outputs": [
    {
     "name": "stderr",
     "output_type": "stream",
     "text": [
      "22/03/07 09:51:37 WARN DAGScheduler: Broadcasting large task binary with size 17.9 MiB\n",
      "22/03/07 09:51:47 WARN DAGScheduler: Broadcasting large task binary with size 17.9 MiB\n",
      "[Stage 97:>                                                         (0 + 2) / 2]\r"
     ]
    },
    {
     "name": "stdout",
     "output_type": "stream",
     "text": [
      "['نشار']\n"
     ]
    },
    {
     "name": "stderr",
     "output_type": "stream",
     "text": [
      "                                                                                \r"
     ]
    }
   ],
   "source": [
    "price_symbols = price_df.select('symbol').distinct().withColumn('price', F.lit(1))\n",
    "trade_symbols = trade_df.select('symbol').distinct().withColumn('trade', F.lit(1))\n",
    "portfolio_symbols = portfolio_df.select('symbol').distinct().withColumn('portfolio', F.lit(1))\n",
    "\n",
    "symbols_df = (\n",
    "    trade_symbols\n",
    "    .join(portfolio_symbols, on = ['symbol'], how = 'outer')\n",
    "    .join(price_symbols, on = ['symbol'], how = 'outer')\n",
    ")\n",
    "\n",
    "print(symbols_df.filter(F.col('price').isNull()).select('symbol').rdd.flatMap(lambda x: x).collect())"
   ]
  },
  {
   "cell_type": "code",
   "execution_count": 13,
   "id": "a8bf5411",
   "metadata": {},
   "outputs": [],
   "source": [
    "w = Window().partitionBy('symbol').orderBy('date')\n",
    "w2 = Window().partitionBy('symbol').orderBy(price_df.date.desc())\n",
    "\n",
    "price_return_df = (price_df.select('symbol', 'mktcap',\n",
    "   ((\n",
    "       F.first('close_price',True).over(w2) - F.first('close_price',True).over(w)\n",
    "       ) \n",
    "       / F.first('close_price',True).over(w)\n",
    "       ).alias('price_return'),\n",
    "       )\n",
    "   .dropDuplicates(['symbol'])\n",
    ")\n",
    "tempt = price_df.na.drop(\n",
    "    how = 'any',\n",
    ")\n",
    "large_small_stocks =( \n",
    "    tempt[tempt.date == 13980328]\n",
    "    .withColumn('sizeDecile', F.ntile(10).over(Window.partitionBy().orderBy('mktcap')))\n",
    ") \n",
    "price_return_df = price_return_df.join(\n",
    "    large_small_stocks.select(\n",
    "        F.col('symbol'),\n",
    "    F.col('sizeDecile'),\n",
    "    ) , on =['symbol']\n",
    ").select(\n",
    "    F.col('symbol'),\n",
    "    F.col('mktcap'),\n",
    "    F.col('price_return'),\n",
    "    F.col('sizeDecile'),\n",
    ")"
   ]
  },
  {
   "cell_type": "code",
   "execution_count": 14,
   "id": "f91287f2",
   "metadata": {},
   "outputs": [
    {
     "name": "stderr",
     "output_type": "stream",
     "text": [
      "22/03/07 09:52:06 WARN WindowExec: No Partition Defined for Window operation! Moving all data to a single partition, this can cause serious performance degradation.\n",
      "22/03/07 09:52:07 WARN DAGScheduler: Broadcasting large task binary with size 17.9 MiB\n",
      "22/03/07 09:52:07 WARN DAGScheduler: Broadcasting large task binary with size 17.9 MiB\n",
      "22/03/07 09:52:14 WARN WindowExec: No Partition Defined for Window operation! Moving all data to a single partition, this can cause serious performance degradation.\n",
      "22/03/07 09:52:14 WARN WindowExec: No Partition Defined for Window operation! Moving all data to a single partition, this can cause serious performance degradation.\n",
      "22/03/07 09:52:15 WARN DAGScheduler: Broadcasting large task binary with size 17.9 MiB\n",
      "22/03/07 09:52:16 WARN DAGScheduler: Broadcasting large task binary with size 17.9 MiB\n",
      "22/03/07 09:52:17 WARN DAGScheduler: Broadcasting large task binary with size 17.9 MiB\n"
     ]
    },
    {
     "name": "stdout",
     "output_type": "stream",
     "text": [
      "+----------+------------+----------+------------+\n",
      "|sizeDecile|medianmktcap|meanReturn|medianReturn|\n",
      "+----------+------------+----------+------------+\n",
      "|         1|         0.0|      0.01|         0.0|\n",
      "|         2|         0.0|       0.0|         0.0|\n",
      "|         3|         0.0|   1362.94|         0.0|\n",
      "|         4|   21193.443|      3.85|         0.0|\n",
      "|         5|   59854.825|      0.55|         0.0|\n",
      "|         6|    115544.0|      0.53|       0.389|\n",
      "|         7|   203169.76|      0.57|       0.371|\n",
      "|         8|    342523.7|      0.58|        0.46|\n",
      "|         9|   731217.75|      0.55|       0.404|\n",
      "|        10|   2902200.0|      0.33|       0.228|\n",
      "+----------+------------+----------+------------+\n",
      "\n"
     ]
    },
    {
     "name": "stderr",
     "output_type": "stream",
     "text": [
      "                                                                                \r"
     ]
    }
   ],
   "source": [
    "(\n",
    "    price_return_df\n",
    "    .groupBy('sizeDecile')\n",
    "    .agg(\n",
    "        F.round(F.expr('percentile(mktcap, array(0.5))')[0], 3).alias('medianmktcap'),\n",
    "        F.round(F.mean('price_return'), 2).alias('meanReturn'),\n",
    "        F.round(F.expr('percentile(price_return, array(0.5))')[0], 3).alias('medianReturn')\n",
    "    )\n",
    "    .orderBy('sizeDecile')\n",
    "    .show()\n",
    ")"
   ]
  },
  {
   "cell_type": "markdown",
   "id": "aadcc966",
   "metadata": {},
   "source": [
    "### general insights"
   ]
  },
  {
   "cell_type": "markdown",
   "id": "ce268b2f",
   "metadata": {},
   "source": [
    "#### check compatibility of the two datasets"
   ]
  },
  {
   "cell_type": "code",
   "execution_count": 15,
   "id": "f1136345",
   "metadata": {},
   "outputs": [
    {
     "name": "stderr",
     "output_type": "stream",
     "text": [
      "[Stage 114:=====================================>              (146 + 54) / 200]\r"
     ]
    },
    {
     "name": "stdout",
     "output_type": "stream",
     "text": [
      "4382954\n",
      "+------------------------------------+-----+---------+\n",
      "|accountId                           |trade|portfolio|\n",
      "+------------------------------------+-----+---------+\n",
      "|00019AFD-C89B-4B63-98BB-18BF5A112C6F|0    |1        |\n",
      "|000217BA-3C48-4458-8CAA-691CA19C7187|0    |1        |\n",
      "|000249D5-649B-4C99-AE9E-82AB979E80C9|0    |1        |\n",
      "+------------------------------------+-----+---------+\n",
      "only showing top 3 rows\n",
      "\n"
     ]
    },
    {
     "name": "stderr",
     "output_type": "stream",
     "text": [
      "                                                                                \r"
     ]
    }
   ],
   "source": [
    "common_investors_df = (\n",
    "    trade_df\n",
    "    .select(F.col('buyerAccountId').alias('accountId'))\n",
    "    .union(trade_df.select(F.col('sellerAccountId').alias('accountId')))\n",
    "    .dropDuplicates()\n",
    "    .withColumn('trade', F.lit(1))\n",
    "    .join(portfolio_df.select('accountId', F.lit(1).alias('portfolio')).dropDuplicates(), on = ['accountId'], how = 'outer')\n",
    "    .fillna(0, subset = ['trade', 'portfolio'])\n",
    ")\n",
    "\n",
    "display_df(common_investors_df)"
   ]
  },
  {
   "cell_type": "code",
   "execution_count": 16,
   "id": "6c64cfb0",
   "metadata": {},
   "outputs": [
    {
     "name": "stderr",
     "output_type": "stream",
     "text": [
      "                                                                                \r"
     ]
    },
    {
     "name": "stdout",
     "output_type": "stream",
     "text": [
      "share of missing portfolio accounts among traders: 21.06 %\n"
     ]
    },
    {
     "name": "stderr",
     "output_type": "stream",
     "text": [
      "                                                                                \r"
     ]
    }
   ],
   "source": [
    "trade_only = common_investors_df.filter( (F.col('trade') == 1) & (F.col('portfolio') == 0)).count()\n",
    "all_trade = common_investors_df.filter(F.col('trade') == 1).count()\n",
    "\n",
    "print('share of missing portfolio accounts among traders:', round(100 * trade_only / all_trade, 2), '%')\n",
    "# It seems reasonable to attribute this missing portion to the new entrants!"
   ]
  },
  {
   "cell_type": "code",
   "execution_count": 17,
   "id": "dcd296ce",
   "metadata": {},
   "outputs": [
    {
     "name": "stdout",
     "output_type": "stream",
     "text": [
      "share of missing trades among investors who have nitial portfolio: 86.23 %\n"
     ]
    }
   ],
   "source": [
    "portfolio_only = common_investors_df.filter( (F.col('trade') == 0) & (F.col('portfolio') == 1)).count()\n",
    "all_portfolio = common_investors_df.filter(F.col('portfolio') == 1).count()\n",
    "\n",
    "print('share of missing trades among investors who have nitial portfolio:', round(100 * portfolio_only / all_portfolio, 2), '%')\n",
    "# It seems reasonable to attribute this missing portion to the new entrants!"
   ]
  },
  {
   "cell_type": "markdown",
   "id": "3f648283",
   "metadata": {},
   "source": [
    "#### number of unique investors"
   ]
  },
  {
   "cell_type": "code",
   "execution_count": 18,
   "id": "8734063d",
   "metadata": {},
   "outputs": [
    {
     "name": "stderr",
     "output_type": "stream",
     "text": [
      "                                                                                \r"
     ]
    },
    {
     "data": {
      "text/plain": [
       "737297"
      ]
     },
     "execution_count": 18,
     "metadata": {},
     "output_type": "execute_result"
    }
   ],
   "source": [
    "(\n",
    "    trade_df\n",
    "    .select(F.col('buyerAccountId').alias('accountId'))\n",
    "    .union(trade_df.select(F.col('sellerAccountId').alias('accountId')))\n",
    "    .dropDuplicates()\n",
    "    .count()\n",
    ")"
   ]
  },
  {
   "cell_type": "markdown",
   "id": "1404424a",
   "metadata": {},
   "source": [
    "#### number of stocks within investors' initial portfolios"
   ]
  },
  {
   "cell_type": "code",
   "execution_count": 19,
   "id": "ca33d5ca",
   "metadata": {},
   "outputs": [
    {
     "name": "stderr",
     "output_type": "stream",
     "text": [
      "[Stage 168:============================================>         (55 + 12) / 67]\r"
     ]
    },
    {
     "name": "stdout",
     "output_type": "stream",
     "text": [
      "+---+---+------+---+---+----+\n",
      "|25%|50%|  mean|75%|90%| 99%|\n",
      "+---+---+------+---+---+----+\n",
      "|1.0|1.0|2.0834|2.0|4.0|15.0|\n",
      "+---+---+------+---+---+----+\n",
      "\n"
     ]
    },
    {
     "name": "stderr",
     "output_type": "stream",
     "text": [
      "                                                                                \r"
     ]
    }
   ],
   "source": [
    "(\n",
    "    portfolio_df\n",
    "    .groupBy('accountId')\n",
    "    .count()\n",
    "    .agg(\n",
    "        F.expr('percentile(count, array(0.25))')[0].alias('25%'),\n",
    "        F.expr('percentile(count, array(0.50))')[0].alias('50%'),\n",
    "        F.round(F.mean('count'), 4).alias('mean'),\n",
    "        F.expr('percentile(count, array(0.75))')[0].alias('75%'),\n",
    "        F.expr('percentile(count, array(0.9))')[0].alias('90%'),\n",
    "        F.expr('percentile(count, array(0.99))')[0].alias('99%'),\n",
    "    )\n",
    "    .show()\n",
    ")"
   ]
  },
  {
   "cell_type": "markdown",
   "id": "55c9a817",
   "metadata": {},
   "source": [
    "#### compare trade value of new entrants with other investors"
   ]
  },
  {
   "cell_type": "code",
   "execution_count": 20,
   "id": "2175dbba",
   "metadata": {},
   "outputs": [
    {
     "name": "stderr",
     "output_type": "stream",
     "text": [
      "[Stage 196:>                                                        (0 + 1) / 1]\r"
     ]
    },
    {
     "name": "stdout",
     "output_type": "stream",
     "text": [
      "+------------+---------------+-------------+\n",
      "|hasPortfolio|median_buyValue|mean_buyValue|\n",
      "+------------+---------------+-------------+\n",
      "|           1|            1.0|         3.44|\n",
      "|           0|           0.78|         2.57|\n",
      "+------------+---------------+-------------+\n",
      "\n"
     ]
    },
    {
     "name": "stderr",
     "output_type": "stream",
     "text": [
      "                                                                                \r"
     ]
    }
   ],
   "source": [
    "(\n",
    "    common_investors_df\n",
    "    .select(F.col('accountId').alias('buyerAccountId'), F.col('portfolio').alias('hasPortfolio'))\n",
    "    .join(trade_df, on = ['buyerAccountId'], how = 'right')\n",
    "    .groupBy('hasPortfolio')\n",
    "    .agg(\n",
    "        F.round(F.expr('percentile(tradeSettlementValue, array(0.5))')[0], 2).alias('median_buyValue'),\n",
    "        F.round(F.mean('tradeSettlementValue'), 2).alias('mean_buyValue')\n",
    "    )\n",
    "    .show()\n",
    ")"
   ]
  },
  {
   "cell_type": "markdown",
   "id": "a8053c16",
   "metadata": {},
   "source": [
    "#### stocks whose shares were given to the mass general public"
   ]
  },
  {
   "cell_type": "code",
   "execution_count": 21,
   "id": "9e6c3a49",
   "metadata": {
    "scrolled": true
   },
   "outputs": [
    {
     "name": "stderr",
     "output_type": "stream",
     "text": [
      "[Stage 204:========================================>           (156 + 44) / 200]\r"
     ]
    },
    {
     "name": "stdout",
     "output_type": "stream",
     "text": [
      "665\n",
      "+------+-----------+--------+-----------+--------------+\n",
      "|symbol|nHeldShares|nHolders|nAllHolders|shareOfHolders|\n",
      "+------+-----------+--------+-----------+--------------+\n",
      "|زماهان|120        |266735  |332130     |0.803         |\n",
      "|ومعلم |229        |209919  |261378     |0.803         |\n",
      "|سمایه |300        |185411  |302045     |0.614         |\n",
      "+------+-----------+--------+-----------+--------------+\n",
      "only showing top 3 rows\n",
      "\n"
     ]
    },
    {
     "name": "stderr",
     "output_type": "stream",
     "text": [
      "                                                                                \r"
     ]
    }
   ],
   "source": [
    "mass_public_stocks_df = (\n",
    "    portfolio_df\n",
    "    .groupBy('symbol', 'nHeldShares')\n",
    "    .agg(\n",
    "        F.countDistinct('accountId').alias('nHolders')\n",
    "    )\n",
    "    .withColumn('nAllHolders', F.sum('nHolders').over(Window.partitionBy('symbol')))\n",
    "    .withColumn('rank', F.row_number().over(Window.partitionBy('symbol').orderBy(F.desc('nHolders'))))\n",
    "    .filter(F.col('rank') == 1)\n",
    "    .drop('rank')\n",
    "    .orderBy(F.desc('nHolders'))\n",
    "    .withColumn('shareOfHolders', F.round(F.col('nHolders') / F.col('nAllHolders'), 3))\n",
    "#     .join(price_df.filter(F.col('date') == 13980105).select('symbol', 'shrout'), on = 'symbol', how = 'left')\n",
    "#     .withColumn('shareOfShares', F.round(F.col('nHeldShares')*F.col('nHolders') / F.col('shrout'), 3))\n",
    ")\n",
    "\n",
    "display_df(mass_public_stocks_df)"
   ]
  },
  {
   "cell_type": "code",
   "execution_count": 22,
   "id": "66bf7921",
   "metadata": {},
   "outputs": [
    {
     "name": "stderr",
     "output_type": "stream",
     "text": [
      "                                                                                \r"
     ]
    }
   ],
   "source": [
    "mass_public_stocks_df.write.mode('overwrite').parquet(PATH_OUTPUT + 'mass_public_stocks.parquet')"
   ]
  },
  {
   "cell_type": "markdown",
   "id": "540fccf5",
   "metadata": {},
   "source": [
    "## make daily portfolios"
   ]
  },
  {
   "cell_type": "markdown",
   "id": "f441ad93",
   "metadata": {},
   "source": [
    "### flatten trade data"
   ]
  },
  {
   "cell_type": "code",
   "execution_count": 23,
   "id": "b418b750",
   "metadata": {
    "scrolled": true
   },
   "outputs": [
    {
     "name": "stderr",
     "output_type": "stream",
     "text": [
      "[Stage 223:=====================================================> (52 + 1) / 53]\r"
     ]
    },
    {
     "name": "stdout",
     "output_type": "stream",
     "text": [
      "15170298\n",
      "+--------+------+------------------------------------+------------+---------+------+\n",
      "|date    |symbol|accountId                           |nTradeShares|cashOut  |cashIn|\n",
      "+--------+------+------------------------------------+------------+---------+------+\n",
      "|13980204|ومعلم |D41B1B0F-FB40-4ACE-BF3B-4AA4E6700EA2|-229        |0.074654 |0.0   |\n",
      "|13980204|پارس  |D41B1B0F-FB40-4ACE-BF3B-4AA4E6700EA2|-2          |0.0076702|0.0   |\n",
      "|13980204|بزاگرس|D41B1B0F-FB40-4ACE-BF3B-4AA4E6700EA2|-449        |0.145476 |0.0   |\n",
      "+--------+------+------------------------------------+------------+---------+------+\n",
      "only showing top 3 rows\n",
      "\n"
     ]
    },
    {
     "name": "stderr",
     "output_type": "stream",
     "text": [
      "                                                                                \r"
     ]
    }
   ],
   "source": [
    "raw_flat_trade_df = spark.read.parquet(PATH_TRADE + \"{}\".format(\"raw_flat_trade_df.parquet\"))\n",
    "\n",
    "display_df(raw_flat_trade_df)"
   ]
  },
  {
   "cell_type": "code",
   "execution_count": 24,
   "id": "08ad61c8",
   "metadata": {},
   "outputs": [
    {
     "name": "stdout",
     "output_type": "stream",
     "text": [
      "3.42 %\n"
     ]
    }
   ],
   "source": [
    "print(round(100*raw_flat_trade_df.filter(\n",
    "    (F.col('cashIn') != 0)&\n",
    "    (F.col('cashOut') != 0) ).count() / raw_flat_trade_df.count(), 2),'%')"
   ]
  },
  {
   "cell_type": "code",
   "execution_count": 25,
   "id": "83403428",
   "metadata": {},
   "outputs": [
    {
     "name": "stderr",
     "output_type": "stream",
     "text": [
      "                                                                                \r"
     ]
    },
    {
     "name": "stdout",
     "output_type": "stream",
     "text": [
      "187070\n",
      "0\n"
     ]
    }
   ],
   "source": [
    "print(raw_flat_trade_df.filter(F.col('nTradeShares') == 0).count())\n",
    "print(trade_df.filter(F.col('tradeSettlementValue') == 0).count())"
   ]
  },
  {
   "cell_type": "code",
   "execution_count": 26,
   "id": "f63a68b1",
   "metadata": {},
   "outputs": [
    {
     "name": "stdout",
     "output_type": "stream",
     "text": [
      "0\n",
      "0\n"
     ]
    }
   ],
   "source": [
    "print(raw_flat_trade_df.filter(F.col('cashIn') > 0 ).count())\n",
    "print(raw_flat_trade_df.filter(F.col('cashOut') < 0 ).count())"
   ]
  },
  {
   "cell_type": "markdown",
   "id": "4b3a9ddc",
   "metadata": {},
   "source": [
    "### make daily portfolios"
   ]
  },
  {
   "cell_type": "code",
   "execution_count": 27,
   "id": "71e4c839",
   "metadata": {},
   "outputs": [],
   "source": [
    "adjustment_ratio = price_df.withColumn(\n",
    "    \"ratio\", F.col('close_price_adjusted') / F.col('close_price') \n",
    ").select(\n",
    "    F.col('date'),\n",
    "    F.col('symbol'),\n",
    "    F.col('ratio'),\n",
    ")"
   ]
  },
  {
   "cell_type": "code",
   "execution_count": 28,
   "metadata": {},
   "outputs": [
    {
     "name": "stderr",
     "output_type": "stream",
     "text": [
      "22/03/07 09:57:51 WARN DAGScheduler: Broadcasting large task binary with size 17.9 MiB\n",
      "                                                                                \r"
     ]
    },
    {
     "name": "stdout",
     "output_type": "stream",
     "text": [
      "8918727\n",
      "+--------+------+------------------------------------+------------------+\n",
      "|date    |symbol|accountId                           |nHeldShares       |\n",
      "+--------+------+------------------------------------+------------------+\n",
      "|13980105|خپارس |9F4FDECE-0613-4162-8EFB-87A683771C14|266292.68292682926|\n",
      "|13980105|ونفت  |6BD95B55-3219-4F17-9EEA-09A450C7ADB8|1700.1546218487395|\n",
      "|13980105|وخارزم|34149238-6FE5-4291-9518-4C188BA3B22B|29695.876460767944|\n",
      "+--------+------+------------------------------------+------------------+\n",
      "only showing top 3 rows\n",
      "\n"
     ]
    }
   ],
   "source": [
    "adjusted_portfolio_df =( \n",
    "    portfolio_df.join(\n",
    "    adjustment_ratio,\n",
    "    on = ['date','symbol']\n",
    "    )\n",
    "    .fillna(1)\n",
    "    .withColumn(\"nHeldShares\",F.col(\"nHeldShares\") / F.col('ratio'))\n",
    "    .drop('ratio')\n",
    ")\n",
    "display_df(\n",
    "    adjusted_portfolio_df\n",
    "    )"
   ]
  },
  {
   "cell_type": "code",
   "execution_count": 29,
   "id": "c0dad64f",
   "metadata": {},
   "outputs": [
    {
     "name": "stderr",
     "output_type": "stream",
     "text": [
      "22/03/07 09:58:52 WARN DAGScheduler: Broadcasting large task binary with size 17.9 MiB\n",
      "                                                                                \r"
     ]
    },
    {
     "name": "stdout",
     "output_type": "stream",
     "text": [
      "15197300\n",
      "+--------+------+------------------------------------+-------------------+---------+------+\n",
      "|date    |symbol|accountId                           |nTradeShares       |cashOut  |cashIn|\n",
      "+--------+------+------------------------------------+-------------------+---------+------+\n",
      "|13980204|ومعلم |D41B1B0F-FB40-4ACE-BF3B-4AA4E6700EA2|-701.9673202614379 |0.074654 |0.0   |\n",
      "|13980204|پارس  |D41B1B0F-FB40-4ACE-BF3B-4AA4E6700EA2|-2.9215262778977684|0.0076702|0.0   |\n",
      "|13980204|بزاگرس|D41B1B0F-FB40-4ACE-BF3B-4AA4E6700EA2|-924.8315321042594 |0.145476 |0.0   |\n",
      "+--------+------+------------------------------------+-------------------+---------+------+\n",
      "only showing top 3 rows\n",
      "\n"
     ]
    }
   ],
   "source": [
    "adjusted_raw_flat_trade_df = (\n",
    "    raw_flat_trade_df.join(\n",
    "    adjustment_ratio,\n",
    "    on = ['date','symbol']\n",
    "    )\n",
    "    .withColumn(\"nTradeShares\",F.col(\"nTradeShares\") / F.col('ratio'))\n",
    "    .drop('ratio')\n",
    ")\n",
    "display_df(\n",
    "    adjusted_raw_flat_trade_df\n",
    "    )"
   ]
  },
  {
   "cell_type": "code",
   "execution_count": 30,
   "id": "1a07adcf",
   "metadata": {
    "scrolled": false
   },
   "outputs": [
    {
     "name": "stderr",
     "output_type": "stream",
     "text": [
      "                                                                                \r"
     ]
    },
    {
     "name": "stdout",
     "output_type": "stream",
     "text": [
      "23803740\n",
      "+--------+------+------------------------------------+-------------------+----------+---------+\n",
      "|date    |symbol|accountId                           |heldShares         |netCashOut|netCashIn|\n",
      "+--------+------+------------------------------------+-------------------+----------+---------+\n",
      "|13980105|چکاپا |00026661-733B-49E0-AC93-ED5812290A9B|6951.577928363989  |0.0       |0.0      |\n",
      "|13980221|چکاپا |00026661-733B-49E0-AC93-ED5812290A9B|-2.6461380260525402|0.83346   |0.0      |\n",
      "|13980105|ارفع  |00029878-6EF9-49A7-B231-61DBED05BDE7|86936.4768425292   |0.0       |0.0      |\n",
      "+--------+------+------------------------------------+-------------------+----------+---------+\n",
      "only showing top 3 rows\n",
      "\n"
     ]
    }
   ],
   "source": [
    "raw_daily_portfolio_df = (\n",
    "    adjusted_portfolio_df\n",
    "    # portfolio_df\n",
    "    .select('date',\n",
    "            'symbol', \n",
    "            'accountId', \n",
    "            'nHeldShares', \n",
    "            F.lit(0).alias('cashOut'),\n",
    "            F.lit(0).alias('cashIn')\n",
    "           )\n",
    "    .union(\n",
    "        adjusted_raw_flat_trade_df\n",
    "        # raw_flat_trade_df\n",
    "        .withColumnRenamed('nTradeShares', 'nHeldShares')\n",
    "    )\n",
    "    .groupBy('date', 'symbol', 'accountId')\n",
    "    .agg(\n",
    "        F.sum('nHeldShares').alias('nHeldShares'),\n",
    "        F.sum('cashOut').alias('cashOut'),\n",
    "        F.sum('cashIn').alias('cashIn')\n",
    "    )\n",
    "    .orderBy('accountId', 'date')\n",
    "    .withColumn('heldShares', make_daily_portfolio()[0])\n",
    "    .withColumn('netCashOut', make_daily_portfolio()[1])\n",
    "    .withColumn('netCashIn', make_daily_portfolio()[2])\n",
    "    .drop('nHeldShares', 'settlementValue', 'cashIn', 'cashOut')\n",
    ")\n",
    "\n",
    "display_df(raw_daily_portfolio_df)"
   ]
  },
  {
   "cell_type": "markdown",
   "id": "fc8d88ef",
   "metadata": {},
   "source": [
    "#### invalid holdings"
   ]
  },
  {
   "cell_type": "code",
   "execution_count": 31,
   "id": "1260a1cb",
   "metadata": {},
   "outputs": [
    {
     "name": "stderr",
     "output_type": "stream",
     "text": [
      "                                                                                \r"
     ]
    },
    {
     "name": "stdout",
     "output_type": "stream",
     "text": [
      "1722366\n",
      "+------------------------------------+------+--------------+\n",
      "|accountId                           |symbol|invalidHolding|\n",
      "+------------------------------------+------+--------------+\n",
      "|00026661-733B-49E0-AC93-ED5812290A9B|چکاپا |1             |\n",
      "|000A5967-88E3-4C5D-8689-58BFBCA82C0A|خپارس |1             |\n",
      "|001211AB-93FF-4B78-ACB2-845909058F1B|فباهنر|1             |\n",
      "+------------------------------------+------+--------------+\n",
      "only showing top 3 rows\n",
      "\n"
     ]
    },
    {
     "name": "stderr",
     "output_type": "stream",
     "text": [
      "                                                                                \r"
     ]
    },
    {
     "name": "stdout",
     "output_type": "stream",
     "text": [
      "10733738\n",
      "+------------------------------------+------+--------+------------------+---------+--------+\n",
      "|accountId                           |symbol|date    |nTradeShares      |cashOut  |cashIn  |\n",
      "+------------------------------------+------+--------+------------------+---------+--------+\n",
      "|00067589-1512-4653-8AC5-A6354E0957AD|خساپا |13980209|12461.68582375479 |0.0      |-0.32875|\n",
      "|0007778B-EBC1-4864-A598-4D18159B683E|ومعلم |13980222|-701.7522299306244|0.0704633|0.0     |\n",
      "|0007F5EF-A1DC-4156-A80F-FCD9930A3689|زشریف |13980231|663.4090909090909 |0.0      |-0.05838|\n",
      "+------------------------------------+------+--------+------------------+---------+--------+\n",
      "only showing top 3 rows\n",
      "\n"
     ]
    },
    {
     "name": "stderr",
     "output_type": "stream",
     "text": [
      "                                                                                \r"
     ]
    },
    {
     "name": "stdout",
     "output_type": "stream",
     "text": [
      "18755774\n",
      "+------------------------------------+------+--------+------------------+----------+---------+\n",
      "|accountId                           |symbol|date    |heldShares        |netCashOut|netCashIn|\n",
      "+------------------------------------+------+--------+------------------+----------+---------+\n",
      "|00029878-6EF9-49A7-B231-61DBED05BDE7|ارفع  |13980105|86936.4768425292  |0.0       |0.0      |\n",
      "|0002A50F-2B48-42F6-B586-428F3BB6423A|کرمان |13980105|24880.324675324675|0.0       |0.0      |\n",
      "|00067589-1512-4653-8AC5-A6354E0957AD|خساپا |13980209|12461.68582375479 |0.0       |-0.32875 |\n",
      "+------------------------------------+------+--------+------------------+----------+---------+\n",
      "only showing top 3 rows\n",
      "\n"
     ]
    }
   ],
   "source": [
    "invalid_holdings_df = (\n",
    "    raw_daily_portfolio_df\n",
    "    .filter(F.col('heldShares') < 0)\n",
    "    .select('accountId', 'symbol')\n",
    "    .dropDuplicates()\n",
    "    .withColumn('invalidHolding', F.lit(1))\n",
    ")\n",
    "display_df(invalid_holdings_df)\n",
    "\n",
    "\n",
    "flat_trade_df = (\n",
    "    adjusted_raw_flat_trade_df\n",
    "    .join(invalid_holdings_df, on = ['accountId', 'symbol'], how = 'left')\n",
    "    .filter(F.col('invalidHolding').isNull())\n",
    "    .drop('invalidHolding')\n",
    ")\n",
    "display_df(flat_trade_df)\n",
    "\n",
    "\n",
    "daily_portfolio_df = (\n",
    "    raw_daily_portfolio_df\n",
    "    .join(invalid_holdings_df, on = ['accountId', 'symbol'], how = 'left')\n",
    "    .filter(F.col('invalidHolding').isNull())\n",
    "    .drop('invalidHolding')\n",
    ")\n",
    "display_df(daily_portfolio_df)"
   ]
  },
  {
   "cell_type": "code",
   "execution_count": null,
   "id": "87f3758a",
   "metadata": {},
   "outputs": [],
   "source": [
    "daily_portfolio_df..write.mode('overwrite').parquet(PATH_PORTFOLIO + 'daily_portfolio_df.parquet')"
   ]
  },
  {
   "cell_type": "markdown",
   "id": "5f89a234",
   "metadata": {},
   "source": [
    "#### new entrants df"
   ]
  },
  {
   "cell_type": "code",
   "execution_count": null,
   "id": "784d72f6",
   "metadata": {},
   "outputs": [],
   "source": [
    "new_entrant_account_ids_df = (\n",
    "    flat_trade_df\n",
    "    .groupBy('accountId')\n",
    "    .agg(\n",
    "        F.min('date').alias('firstDate')\n",
    "    )\n",
    "    .join(portfolio_df.select('accountId').distinct(), on = 'accountId', how = 'left_anti')\n",
    ")\n",
    "\n",
    "display_df(new_entrant_account_ids_df)"
   ]
  },
  {
   "cell_type": "code",
   "execution_count": null,
   "id": "f286fd7e",
   "metadata": {},
   "outputs": [],
   "source": [
    "new_entrant_account_ids_df.write.mode('overwrite').parquet(PATH_OUTPUT + 'new_entrant_account_ids.parquet')"
   ]
  },
  {
   "cell_type": "markdown",
   "id": "3bea8eeb",
   "metadata": {},
   "source": [
    "#### time series of new entrants"
   ]
  },
  {
   "cell_type": "code",
   "execution_count": null,
   "id": "84c9b19c",
   "metadata": {},
   "outputs": [],
   "source": [
    "new_entrantd_time_series_df = (\n",
    "    flat_trade_df\n",
    "    .select('date', 'accountId')\n",
    "    .dropDuplicates()\n",
    "    .join(new_entrant_account_ids_df, on = 'accountId', how = 'inner')\n",
    "    .withColumn('rank', F.row_number().over(Window.partitionBy('accountId').orderBy('date')))\n",
    "    .filter(F.col('rank') == 1)\n",
    "    .drop('rank')\n",
    "    .groupBy('date')\n",
    "    .count()\n",
    "    .orderBy('date')\n",
    ")\n",
    "\n",
    "display_df(new_entrantd_time_series_df)"
   ]
  },
  {
   "cell_type": "code",
   "execution_count": null,
   "id": "6b0d66e4",
   "metadata": {},
   "outputs": [],
   "source": [
    "new_entrantd_time_series_df.write.mode('overwrite').parquet(PATH_OUTPUT + 'new_entrantd_time_series_df.parquet')"
   ]
  },
  {
   "cell_type": "markdown",
   "id": "9d8921a7",
   "metadata": {},
   "source": [
    "### calculate gain from trade"
   ]
  },
  {
   "cell_type": "code",
   "execution_count": null,
   "id": "bd50b51f",
   "metadata": {
    "scrolled": true
   },
   "outputs": [],
   "source": [
    "gain_from_trade_df = (\n",
    "    flat_trade_df\n",
    "    .groupBy('accountId')\n",
    "    .agg(\n",
    "        F.sum('cashOut').alias('netCashOut'),\n",
    "        F.sum('cashIn').alias('netCashIn'),\n",
    "    )\n",
    ")\n",
    "\n",
    "display_df(gain_from_trade_df)"
   ]
  },
  {
   "cell_type": "markdown",
   "id": "3c9d0b98",
   "metadata": {},
   "source": [
    "### calculate value of the initial portfolio"
   ]
  },
  {
   "cell_type": "code",
   "execution_count": null,
   "id": "99972117",
   "metadata": {},
   "outputs": [],
   "source": [
    "initial_portfolio_value_df = (\n",
    "    adjusted_portfolio_df\n",
    "    .join(price_df.select('date', 'symbol', 'close_price_adjusted'), on = ['date', 'symbol'], how = 'left')\n",
    "    .withColumnRenamed(\"close_price_adjusted\",\"close_price\")\n",
    "    .dropna(subset = ['close_price'])\n",
    "    .join(invalid_holdings_df, on = ['accountId', 'symbol'], how = 'left')\n",
    "    .filter(F.col('invalidHolding').isNull())\n",
    "    .withColumn('value', F.col('nHeldShares') * F.col('close_price'))\n",
    "    .groupBy('accountId')\n",
    "    .agg(\n",
    "        (F.sum('value') / 10**7).alias('initialPortfolioValue')\n",
    "    )\n",
    ")\n",
    "\n",
    "display_df(initial_portfolio_value_df)\n",
    "# count after join?"
   ]
  },
  {
   "cell_type": "code",
   "execution_count": null,
   "id": "471edd59",
   "metadata": {},
   "outputs": [],
   "source": [
    "print(initial_portfolio_value_df.filter(F.col('initialPortfolioValue').isNull()).count())\n",
    "print(initial_portfolio_value_df.filter(F.col('initialPortfolioValue') <= 0).count())"
   ]
  },
  {
   "cell_type": "markdown",
   "id": "b160c9ac",
   "metadata": {},
   "source": [
    "### calculate value of the final portfolio"
   ]
  },
  {
   "cell_type": "code",
   "execution_count": null,
   "id": "37d21e8b",
   "metadata": {},
   "outputs": [],
   "source": [
    "final_portfolio_value_df = (\n",
    "    daily_portfolio_df\n",
    "    .withColumn('rowNumber', F.row_number().over(Window.partitionBy('accountId', 'symbol').orderBy('date')))\n",
    "    .withColumn('maxRowNumber', F.max('rowNumber').over(Window.partitionBy('accountId', 'symbol')))\n",
    "    .filter(F.col('rowNumber') == F.col('maxRowNumber'))\n",
    "    .filter(F.col('heldShares') > 0)\n",
    "    .withColumn('date', F.lit(MAX_PRICE_DATE))\n",
    "    .join(price_df.select('date', 'symbol', 'close_price_adjusted'), on = ['date', 'symbol'], how = 'left')\n",
    "    .withColumnRenamed(\"close_price_adjusted\",\"close_price\")\n",
    "    .dropna(subset = ['close_price'])\n",
    "    .withColumn('value', F.col('heldShares') * F.col('close_price'))\n",
    "    .groupBy('accountId')\n",
    "    .agg(\n",
    "        (F.sum('value') / 10**7).alias('finalPortfolioValue')\n",
    "    )   \n",
    ")\n",
    "\n",
    "display_df(final_portfolio_value_df)\n",
    "# count after join?"
   ]
  },
  {
   "cell_type": "code",
   "execution_count": null,
   "id": "189eaef5",
   "metadata": {},
   "outputs": [],
   "source": [
    "print(final_portfolio_value_df.filter(F.col('finalPortfolioValue').isNull()).count())\n",
    "print(final_portfolio_value_df.filter(F.col('finalPortfolioValue') <= 0).count())"
   ]
  },
  {
   "cell_type": "code",
   "execution_count": null,
   "id": "5974f3d4",
   "metadata": {},
   "outputs": [],
   "source": [
    "t = final_portfolio_value_df.select(\"finalPortfolioValue\").rdd.max()[0]\n",
    "final_portfolio_value_df.filter(F.col('finalPortfolioValue') == t).show(1,False)"
   ]
  },
  {
   "cell_type": "markdown",
   "id": "7105f5b5",
   "metadata": {},
   "source": [
    "## Find symbols in portfolios with one symbol"
   ]
  },
  {
   "cell_type": "code",
   "execution_count": null,
   "id": "45409fce",
   "metadata": {},
   "outputs": [],
   "source": [
    "stock_number_df = ( daily_portfolio_df\n",
    ".dropDuplicates(subset= ['accountId','symbol'])\n",
    ".withColumn('numberOfStocks', F.row_number().over(Window.partitionBy('accountId').orderBy(F.desc('heldShares'))))\n",
    ".withColumn('numberOfStocks', F.max('numberOfStocks').over(Window.partitionBy('accountId')))\n",
    ")\n",
    "display_df(stock_number_df)\n",
    "    "
   ]
  },
  {
   "cell_type": "code",
   "execution_count": null,
   "id": "25a67bd0",
   "metadata": {},
   "outputs": [],
   "source": [
    "symbols_in_one_symbol_portfolios_df = (\n",
    "    stock_number_df.filter(F.col('numberOfStocks') == 1)\n",
    "    .withColumn(\"accountNumbers\", F.row_number().over(Window.partitionBy('symbol').orderBy(F.desc('heldShares'))))\n",
    "    .withColumn(\"accountNumbers\", F.max('accountNumbers').over(Window.partitionBy('symbol')))\n",
    "    .dropDuplicates(subset = ['symbol'])\n",
    "    .select(\n",
    "        F.col('symbol'),\n",
    "        F.col('accountNumbers'),\n",
    "    )\n",
    "    .orderBy(F.desc('accountNumbers'))\n",
    ")\n",
    "display_df(symbols_in_one_symbol_portfolios_df)"
   ]
  },
  {
   "cell_type": "code",
   "execution_count": null,
   "id": "8876ec3f",
   "metadata": {},
   "outputs": [],
   "source": [
    "symbols_in_one_symbol_portfolios_df.write.mode('overwrite').parquet(PATH_OUTPUT + 'symbols_in_one_symbol_portfolios_df.parquet')"
   ]
  },
  {
   "cell_type": "markdown",
   "id": "f4559c87",
   "metadata": {},
   "source": [
    "### time series of the net cash in"
   ]
  },
  {
   "cell_type": "code",
   "execution_count": null,
   "id": "e9e5958a",
   "metadata": {},
   "outputs": [],
   "source": [
    "max_portfolio_value_df = (\n",
    "    final_portfolio_value_df\n",
    "    .join(initial_portfolio_value_df, on = ['accountId'], how = 'outer')\n",
    "    .fillna(0)\n",
    "    .withColumn('maxPortfolioValue', F.greatest(F.col('initialPortfolioValue'), F.col('finalPortfolioValue')))\n",
    "    .withColumn('type', F.when(F.col('maxPortfolioValue') < 10, 'lessThan10MT')\n",
    "                         .when(F.col('maxPortfolioValue').between(10, 20), 'between10MTand20MT')\n",
    "                         .when(F.col('maxPortfolioValue').between(20, 50), 'between20MTand50MT')\n",
    "                         .otherwise('greaterThan50MT')\n",
    "               )\n",
    "    .select('accountId', 'type')\n",
    "    .dropDuplicates()\n",
    ")\n",
    "\n",
    "display_df(max_portfolio_value_df)"
   ]
  },
  {
   "cell_type": "code",
   "execution_count": null,
   "id": "82e94749",
   "metadata": {},
   "outputs": [],
   "source": [
    "dates_list = price_df.select('date').distinct().orderBy('date').rdd.flatMap(lambda x: x).collect()\n",
    "\n",
    "cash_time_series_df = (\n",
    "    flat_trade_df\n",
    "    .withColumn('netCash', F.col('cashIn') + F.col('cashOut'))\n",
    "    .join(max_portfolio_value_df, on = 'accountId', how = 'inner')\n",
    "    .groupBy('type', 'date')\n",
    "    .agg(\n",
    "        F.round((-F.sum('netCash'))).alias('netCash'),\n",
    "        F.countDistinct('accountId').alias('nAccounts')\n",
    "    )\n",
    "    .orderBy('date', 'type')\n",
    ")\n",
    "\n",
    "cash_time_series_df.show(4)"
   ]
  },
  {
   "cell_type": "code",
   "execution_count": null,
   "id": "4fdc6d92",
   "metadata": {},
   "outputs": [],
   "source": [
    "cash_time_series_df.write.mode('overwrite').parquet(PATH_OUTPUT + 'cash_time_series.parquet')"
   ]
  },
  {
   "cell_type": "markdown",
   "id": "385da296",
   "metadata": {},
   "source": [
    "## calculate returns"
   ]
  },
  {
   "cell_type": "code",
   "execution_count": null,
   "id": "2991a55a",
   "metadata": {
    "scrolled": true
   },
   "outputs": [],
   "source": [
    "return_df = (\n",
    "    gain_from_trade_df\n",
    "    .join(initial_portfolio_value_df, on = 'accountId', how = 'outer')\n",
    "    .join(final_portfolio_value_df, on = 'accountId', how = 'outer')\n",
    "    .fillna(0, subset = ['netCashIn', 'netCashOut', 'initialPortfolioValue', 'finalPortfolioValue'])\n",
    "    .withColumn('return', \n",
    "                ((F.col('finalPortfolioValue') + F.col('netCashOut')) / (F.col('initialPortfolioValue') + (-F.col('netCashIn')))) - 1)\n",
    "    .filter(F.col('return').isNotNull())\n",
    "    .withColumn('returnDecile', F.ntile(N_QUANTILES).over(Window.partitionBy().orderBy('return')))\n",
    ")\n",
    "\n",
    "display_df(return_df)\n",
    "# null returns?"
   ]
  },
  {
   "cell_type": "code",
   "execution_count": null,
   "id": "c4927024",
   "metadata": {},
   "outputs": [],
   "source": [
    "(\n",
    "    return_df\n",
    "    .filter(F.col('return') == 0)\n",
    "    .count()\n",
    ")\n"
   ]
  },
  {
   "cell_type": "code",
   "execution_count": null,
   "id": "e1cca050",
   "metadata": {},
   "outputs": [],
   "source": [
    "(\n",
    "    return_df\n",
    "    .groupBy('returnDecile')\n",
    "    .agg(\n",
    "        F.round(F.expr('percentile(return, array(0.5))')[0], 3).alias('medianReturn')\n",
    "    )\n",
    "    .show()\n",
    ")"
   ]
  },
  {
   "cell_type": "code",
   "execution_count": null,
   "id": "ba304564",
   "metadata": {},
   "outputs": [],
   "source": [
    "(\n",
    "    return_df\n",
    "    .agg(\n",
    "       F.round(F.min('return'), 2).alias('min'),\n",
    "        F.round(F.expr('percentile(return, array(0.01))')[0], 2).alias('1%'),\n",
    "        F.round(F.expr('percentile(return, array(0.1))')[0], 2).alias('10%'),\n",
    "        F.round(F.expr('percentile(return, array(0.25))')[0], 2).alias('25%'),\n",
    "        F.round(F.expr('percentile(return, array(0.5))')[0], 2).alias('50%'),\n",
    "        F.round(F.mean('return'), 2).alias('mean'),\n",
    "        F.round(F.expr('percentile(return, array(0.75))')[0], 2).alias('75%'),\n",
    "        F.round(F.expr('percentile(return, array(0.9))')[0], 2).alias('90%'),\n",
    "        F.round(F.expr('percentile(return, array(0.99))')[0], 2).alias('99%'),\n",
    "        F.round(F.expr('percentile(return, array(0.999))')[0], 2).alias('99.9%'),\n",
    "    )\n",
    "    .show()\n",
    ")"
   ]
  },
  {
   "cell_type": "code",
   "execution_count": null,
   "id": "2d7359d3",
   "metadata": {},
   "outputs": [],
   "source": [
    "return_df.write.mode('overwrite').parquet(PATH_OUTPUT + 'return_output.parquet')"
   ]
  },
  {
   "cell_type": "code",
   "execution_count": null,
   "id": "ab6f543f",
   "metadata": {},
   "outputs": [],
   "source": [
    "return_df.filter(F.col(\"return\") == return_df.select(\"return\").rdd.max()[0]).show(20,False)\n"
   ]
  },
  {
   "cell_type": "code",
   "execution_count": null,
   "id": "0c24f573",
   "metadata": {},
   "outputs": [],
   "source": []
  },
  {
   "cell_type": "code",
   "execution_count": null,
   "id": "021ba810",
   "metadata": {},
   "outputs": [],
   "source": [
    "portfolio_df.filter(F.col(\"accountId\") == 'D832B9B2-00EB-489E-8B91-8C1BF4BE8B26').show(2,False)"
   ]
  },
  {
   "cell_type": "code",
   "execution_count": null,
   "id": "9407ea96",
   "metadata": {},
   "outputs": [],
   "source": [
    "(\n",
    "    price_df\n",
    "    .filter((F.col(\"symbol\") == 'ودانا')&(F.col(\"date\") > 13980105))\n",
    "    .orderBy(\"date\")\n",
    "    .select(\n",
    "        F.col(\"date\"),\n",
    "        F.col(\"close_price\"),\n",
    "        F.col(\"close_price_adjusted\"),\n",
    "    )\n",
    "    ).show(20,False)"
   ]
  },
  {
   "cell_type": "code",
   "execution_count": null,
   "id": "d65dbc21",
   "metadata": {},
   "outputs": [],
   "source": [
    "final_portfolio_value_df.filter(F.col(\"accountId\") == 'D832B9B2-00EB-489E-8B91-8C1BF4BE8B26').show(2,False)\n",
    "initial_portfolio_value_df.filter(F.col(\"accountId\") == 'D832B9B2-00EB-489E-8B91-8C1BF4BE8B26').show(2,False)"
   ]
  },
  {
   "cell_type": "markdown",
   "id": "9304442a",
   "metadata": {},
   "source": [
    "### final portfolio value output"
   ]
  },
  {
   "cell_type": "code",
   "execution_count": null,
   "id": "81a77650",
   "metadata": {
    "scrolled": true
   },
   "outputs": [],
   "source": [
    "output_final_portfolio_value = (\n",
    "    final_portfolio_value_df\n",
    "    .join(return_df.select('accountId', 'return'), on = 'accountId')\n",
    "    .withColumn('finalPortfolioValueDecile', F.ntile(N_QUANTILES).over(Window.partitionBy().orderBy('finalPortfolioValue')))\n",
    ")\n",
    "\n",
    "display_df(output_final_portfolio_value)"
   ]
  },
  {
   "cell_type": "code",
   "execution_count": null,
   "id": "bdff893f",
   "metadata": {},
   "outputs": [],
   "source": [
    "(\n",
    "    output_final_portfolio_value\n",
    "    .groupBy('finalPortfolioValueDecile')\n",
    "    .agg(\n",
    "        F.round(F.expr('percentile(finalPortfolioValue, array(0.5))')[0], 3).alias('medianFinalPortfolioValue'),\n",
    "        F.round(F.mean('return'), 2).alias('meanReturn'),\n",
    "        F.round(F.expr('percentile(return, array(0.5))')[0], 3).alias('medianReturn')\n",
    "    )\n",
    "    .orderBy('finalPortfolioValueDecile')\n",
    "    .show()\n",
    ")"
   ]
  },
  {
   "cell_type": "code",
   "execution_count": null,
   "id": "67bce316",
   "metadata": {},
   "outputs": [],
   "source": [
    "output_final_portfolio_value.write.mode('overwrite').parquet(PATH_OUTPUT + 'final_portfolio_output.parquet')"
   ]
  },
  {
   "cell_type": "markdown",
   "id": "2173cf42",
   "metadata": {},
   "source": [
    "### initial portfolio value output"
   ]
  },
  {
   "cell_type": "code",
   "execution_count": null,
   "id": "2f5e118a",
   "metadata": {},
   "outputs": [],
   "source": [
    "output_initial_portfolio_value = (\n",
    "    initial_portfolio_value_df\n",
    "    .join(return_df.select('accountId', 'return'), on = 'accountId')\n",
    "    .withColumn('initialPortfolioValueDecile', F.ntile(N_QUANTILES).over(Window.partitionBy().orderBy('initialPortfolioValue')))\n",
    ")\n",
    "\n",
    "display_df(output_initial_portfolio_value)"
   ]
  },
  {
   "cell_type": "code",
   "execution_count": null,
   "id": "0ba26784",
   "metadata": {},
   "outputs": [],
   "source": [
    "(\n",
    "    output_initial_portfolio_value\n",
    "    .groupBy('initialPortfolioValueDecile')\n",
    "    .agg(\n",
    "        F.round(F.expr('percentile(initialPortfolioValue, array(0.5))')[0], 3).alias('medianInitialPortfolioValue'),\n",
    "        F.round(F.mean('return'), 2).alias('meanReturn'),\n",
    "        F.round(F.expr('percentile(return, array(0.5))')[0], 5).alias('medianReturn')\n",
    "    )\n",
    "    .orderBy('initialPortfolioValueDecile')\n",
    "    .show()\n",
    ")"
   ]
  },
  {
   "cell_type": "code",
   "execution_count": null,
   "id": "0c42db78",
   "metadata": {},
   "outputs": [],
   "source": [
    "output_initial_portfolio_value.write.mode('overwrite').parquet(PATH_OUTPUT + 'inital_portfolio_output.parquet')"
   ]
  },
  {
   "cell_type": "markdown",
   "id": "c4358eef",
   "metadata": {},
   "source": [
    "### calculate frequency of trades and active days"
   ]
  },
  {
   "cell_type": "code",
   "execution_count": null,
   "id": "dc91189f",
   "metadata": {},
   "outputs": [],
   "source": [
    "active_days_df = (\n",
    "    adjusted_raw_flat_trade_df\n",
    "    .groupBy('accountId', 'date')\n",
    "    .agg(\n",
    "        F.sum('cashIn').alias('netCashIn'),\n",
    "        F.sum('cashOut').alias('netCashOut')\n",
    "    )\n",
    "    .withColumn('netCash', F.col('netCashIn') + F.col('netCashOut'))\n",
    "    .groupBy('accountId')\n",
    "    .agg(\n",
    "        F.count(F.when(F.col('netCash') < 0, F.lit(1))).alias('nBuyDays'),\n",
    "        F.count(F.when(F.col('netCash') > 0, F.lit(1))).alias('nSellDays')\n",
    "    )\n",
    "    .fillna(0, subset = ['nBuyDays', 'nSellDays'])\n",
    ")\n",
    "\n",
    "display_df(active_days_df)"
   ]
  },
  {
   "cell_type": "code",
   "execution_count": null,
   "id": "89a9d430",
   "metadata": {},
   "outputs": [],
   "source": [
    "buy_trade_df = (\n",
    "    trade_df\n",
    "        .select(\n",
    "        'date',\n",
    "        'symbol',\n",
    "        F.col('buyerAccountId').alias('accountId'),\n",
    "        'nTradeShares',\n",
    "        (-F.col('tradeSettlementValue')).alias('settlementValue'),\n",
    "        )\n",
    ")\n",
    "\n",
    "sell_trade_df = (\n",
    "    trade_df\n",
    "        .select(\n",
    "            'date',\n",
    "            'symbol',\n",
    "            F.col('sellerAccountId').alias('accountId'),\n",
    "            (-F.col('nTradeShares')).alias('nTradeShares'),\n",
    "            F.col('tradeSettlementValue').alias('settlementValue')\n",
    "        )\n",
    ")"
   ]
  },
  {
   "cell_type": "code",
   "execution_count": null,
   "id": "ac2e1e61",
   "metadata": {},
   "outputs": [],
   "source": [
    "trade_kpi_df = (\n",
    "    buy_trade_df\n",
    "    .union(sell_trade_df)\n",
    "    .groupBy('accountId')\n",
    "    .agg(\n",
    "        F.count(F.lit(1)).alias('tradeFrequency'),\n",
    "        F.mean(F.abs('settlementValue')).alias('meanTradeValue'),\n",
    "        F.sum('settlementValue').alias('netSumTradeValue'),\n",
    "        F.sum(F.abs('settlementValue')).alias('absSumTradeValue'),\n",
    "        F.countDistinct('date').alias('activeDays'),\n",
    "    )\n",
    "    .join(active_days_df, on = 'accountId')\n",
    ")\n",
    "\n",
    "display_df(trade_kpi_df)"
   ]
  },
  {
   "cell_type": "code",
   "execution_count": null,
   "id": "34facbc1",
   "metadata": {},
   "outputs": [],
   "source": [
    "(\n",
    "    trade_kpi_df\n",
    "    .agg(\n",
    "        F.round(F.expr('percentile(tradeFrequency, array(0.25))')[0], 2).alias('25% percentile'),\n",
    "        F.round(F.expr('percentile(tradeFrequency, array(0.5))')[0], 2).alias('50% percentile'),\n",
    "        F.round(F.mean('tradeFrequency'), 2).alias('mean'),\n",
    "        F.round(F.expr('percentile(tradeFrequency, array(0.75))')[0], 2).alias('75% percentile'),\n",
    "        F.round(F.expr('percentile(tradeFrequency, array(0.9))')[0], 2).alias('90% percentile'),\n",
    "        F.round(F.expr('percentile(tradeFrequency, array(0.99))')[0], 2).alias('99% percentile'),\n",
    "        F.round(F.expr('percentile(tradeFrequency, array(0.999))')[0], 2).alias('99.9% percentile'),\n",
    "    )\n",
    "    .show()\n",
    ")"
   ]
  },
  {
   "cell_type": "code",
   "execution_count": null,
   "id": "4932f062",
   "metadata": {},
   "outputs": [],
   "source": [
    "(\n",
    "    trade_kpi_df\n",
    "    .agg(\n",
    "        F.round(F.expr('percentile(activeDays, array(0.25))')[0], 2).alias('25% percentile'),\n",
    "        F.round(F.expr('percentile(activeDays, array(0.5))')[0], 2).alias('50% percentile'),\n",
    "        F.round(F.mean('activeDays'), 2).alias('mean'),\n",
    "        F.round(F.expr('percentile(activeDays, array(0.75))')[0], 2).alias('75% percentile'),\n",
    "        F.round(F.expr('percentile(activeDays, array(0.9))')[0], 2).alias('90% percentile'),\n",
    "        F.round(F.expr('percentile(activeDays, array(0.99))')[0], 2).alias('99% percentile'),\n",
    "        F.round(F.expr('percentile(activeDays, array(0.999))')[0], 2).alias('99.9% percentile'),\n",
    "    )\n",
    "    .show()\n",
    ")"
   ]
  },
  {
   "cell_type": "code",
   "execution_count": null,
   "id": "9a55f696",
   "metadata": {},
   "outputs": [],
   "source": [
    "(\n",
    "    trade_kpi_df\n",
    "    .agg(\n",
    "        F.round(F.expr('percentile(nBuyDays, array(0.25))')[0], 2).alias('25% percentile'),\n",
    "        F.round(F.expr('percentile(nBuyDays, array(0.5))')[0], 2).alias('50% percentile'),\n",
    "        F.round(F.mean('nBuyDays'), 2).alias('mean'),\n",
    "        F.round(F.expr('percentile(nBuyDays, array(0.75))')[0], 2).alias('75% percentile'),\n",
    "        F.round(F.expr('percentile(nBuyDays, array(0.9))')[0], 2).alias('90% percentile'),\n",
    "        F.round(F.expr('percentile(nBuyDays, array(0.99))')[0], 2).alias('99% percentile'),\n",
    "        F.round(F.expr('percentile(nBuyDays, array(0.999))')[0], 2).alias('99.9% percentile'),\n",
    "    )\n",
    "    .show()\n",
    ")"
   ]
  },
  {
   "cell_type": "code",
   "execution_count": null,
   "id": "2270b6e1",
   "metadata": {},
   "outputs": [],
   "source": [
    "(\n",
    "    trade_kpi_df\n",
    "    .agg(\n",
    "        F.round(F.expr('percentile(nSellDays, array(0.25))')[0], 2).alias('25% percentile'),\n",
    "        F.round(F.expr('percentile(nSellDays, array(0.5))')[0], 2).alias('50% percentile'),\n",
    "        F.round(F.mean('nSellDays'), 2).alias('mean'),\n",
    "        F.round(F.expr('percentile(nSellDays, array(0.75))')[0], 2).alias('75% percentile'),\n",
    "        F.round(F.expr('percentile(nSellDays, array(0.9))')[0], 2).alias('90% percentile'),\n",
    "        F.round(F.expr('percentile(nSellDays, array(0.99))')[0], 2).alias('99% percentile'),\n",
    "        F.round(F.expr('percentile(nSellDays, array(0.999))')[0], 2).alias('99.9% percentile'),\n",
    "    )\n",
    "    .show()\n",
    ")"
   ]
  },
  {
   "cell_type": "code",
   "execution_count": null,
   "id": "69836438",
   "metadata": {},
   "outputs": [],
   "source": [
    "print(trade_kpi_df.count() - trade_kpi_df.dropna().count())"
   ]
  },
  {
   "cell_type": "code",
   "execution_count": null,
   "id": "2ac8cec4",
   "metadata": {
    "scrolled": true
   },
   "outputs": [],
   "source": [
    "trade_output_df = (\n",
    "    trade_kpi_df\n",
    "    .join(return_df.select('accountId', 'return').dropDuplicates(), on = ['accountId'])\n",
    "    .dropna()\n",
    "    .withColumn('tradeFrequencyDecile', F.ntile(N_QUANTILES).over(Window.partitionBy().orderBy('tradeFrequency')))\n",
    "    .withColumn('meanTradeValueDecile', F.ntile(N_QUANTILES).over(Window.partitionBy().orderBy('meanTradeValue')))\n",
    "    .withColumn('netSumTradeValueDecile', F.ntile(N_QUANTILES).over(Window.partitionBy().orderBy('netSumTradeValue')))\n",
    "    .withColumn('absSumTradeValueDecile', F.ntile(N_QUANTILES).over(Window.partitionBy().orderBy('absSumTradeValue')))\n",
    "    .withColumn('activeDaysDecile', F.ntile(N_QUANTILES).over(Window.partitionBy().orderBy('activeDays')))\n",
    "    .withColumn('nBuyDaysDecile', F.ntile(N_QUANTILES).over(Window.partitionBy().orderBy('nBuyDays')))\n",
    "    .withColumn('nSellDaysDecile', F.ntile(N_QUANTILES).over(Window.partitionBy().orderBy('nSellDays')))\n",
    ")\n",
    "\n",
    "display_df(trade_output_df)"
   ]
  },
  {
   "cell_type": "code",
   "execution_count": null,
   "id": "3dadb7f5",
   "metadata": {},
   "outputs": [],
   "source": [
    "print(round(trade_output_df.filter(F.col('return') >= 0.35).count() / trade_output_df.count() ,2))"
   ]
  },
  {
   "cell_type": "code",
   "execution_count": null,
   "id": "535e3153",
   "metadata": {},
   "outputs": [],
   "source": [
    "(\n",
    "    trade_output_df\n",
    "    .agg(\n",
    "        F.round(F.expr('percentile(return, array(0.5))')[0], 3).alias('medianReturn')\n",
    "    )\n",
    "    .show()\n",
    ")"
   ]
  },
  {
   "cell_type": "code",
   "execution_count": null,
   "id": "178daac4",
   "metadata": {},
   "outputs": [],
   "source": [
    "(\n",
    "    trade_output_df\n",
    "    .groupBy('tradeFrequencyDecile')\n",
    "    .agg(\n",
    "        F.round(F.expr('percentile(return, array(0.5))')[0], 3).alias('medianReturn')\n",
    "    )\n",
    "    .orderBy('tradeFrequencyDecile')\n",
    "    .show()\n",
    ")"
   ]
  },
  {
   "cell_type": "code",
   "execution_count": null,
   "id": "530f71a7",
   "metadata": {},
   "outputs": [],
   "source": [
    "trade_output_df.write.mode('overwrite').parquet(PATH_OUTPUT + 'trade_output.parquet')"
   ]
  },
  {
   "cell_type": "markdown",
   "id": "96f061bd",
   "metadata": {},
   "source": [
    "### identify block holders"
   ]
  },
  {
   "cell_type": "code",
   "execution_count": null,
   "id": "723c64d0",
   "metadata": {},
   "outputs": [],
   "source": [
    "bh_df = (\n",
    "    daily_portfolio_df\n",
    "    .select('date', 'symbol', 'accountId', 'heldShares')\n",
    "    .join(price_df.select('date', 'symbol', 'shrout'), on = ['date', 'symbol'])\n",
    "    .withColumn('ownership', F.col('heldShares') / F.col('shrout'))\n",
    "    .filter( (F.col('ownership') >= 0.01) & F.col('ownership').isNotNull() )\n",
    "    .select('accountId')\n",
    "    .distinct()\n",
    "    .withColumn('isBH', F.lit(1))\n",
    ")\n",
    "\n",
    "display_df(bh_df)"
   ]
  },
  {
   "cell_type": "code",
   "execution_count": null,
   "id": "38fc40ac",
   "metadata": {},
   "outputs": [],
   "source": [
    "bh_output_df = (\n",
    "    return_df\n",
    "    .select('accountId', 'return')\n",
    "    .dropna()\n",
    "    .join(bh_df, on = 'accountId', how = 'left')\n",
    "    .fillna(0, 'isBH')\n",
    ")\n",
    "\n",
    "display_df(bh_output_df)"
   ]
  },
  {
   "cell_type": "code",
   "execution_count": null,
   "id": "5b5f1ed3",
   "metadata": {},
   "outputs": [],
   "source": [
    "(\n",
    "    bh_output_df\n",
    "    .groupBy('isBH')\n",
    "    .agg(\n",
    "        F.round(F.expr('percentile(return, array(0.5))')[0], 3).alias('medianTradeFrequency')\n",
    "    )\n",
    "    .show()\n",
    ")"
   ]
  },
  {
   "cell_type": "code",
   "execution_count": null,
   "id": "5049fb7a",
   "metadata": {},
   "outputs": [],
   "source": [
    "bh_output_df.write.mode('overwrite').parquet(PATH_OUTPUT + 'bhOutput.parquet')"
   ]
  },
  {
   "cell_type": "markdown",
   "id": "08c60934",
   "metadata": {},
   "source": [
    "### number of stocks within initial portfolio"
   ]
  },
  {
   "cell_type": "code",
   "execution_count": null,
   "id": "cab6bed6",
   "metadata": {},
   "outputs": [],
   "source": [
    "n_stocks_within_initial_portfolio_df = (\n",
    "    portfolio_df\n",
    "    .groupBy('accountId')\n",
    "    .agg(\n",
    "        F.count(F.lit(1)).alias('nStocksWithinInitialPortfolio')\n",
    "    )\n",
    "    .dropna()\n",
    ")\n",
    "\n",
    "display_df(n_stocks_within_initial_portfolio_df)"
   ]
  },
  {
   "cell_type": "code",
   "execution_count": null,
   "id": "cb2e38a0",
   "metadata": {},
   "outputs": [],
   "source": [
    "n_stocks_within_initial_portfolio_output_df = (\n",
    "    return_df\n",
    "    .select('accountId', 'return')\n",
    "    .dropna()\n",
    "    .join(n_stocks_within_initial_portfolio_df, on = 'accountId', how = 'inner')\n",
    "    .withColumn('nStocksWithinInitialPortfolioDecile', F.ntile(N_QUANTILES).over(Window.partitionBy().orderBy('nStocksWithinInitialPortfolio')))\n",
    ")\n",
    "\n",
    "display_df(n_stocks_within_initial_portfolio_output_df)"
   ]
  },
  {
   "cell_type": "code",
   "execution_count": null,
   "id": "864f21c5",
   "metadata": {},
   "outputs": [],
   "source": [
    "(\n",
    "    n_stocks_within_initial_portfolio_output_df\n",
    "    .groupBy('nStocksWithinInitialPortfolioDecile')\n",
    "    .agg(\n",
    "        F.round(F.expr('percentile(return, array(0.5))')[0], 3).alias('medianReturn')\n",
    "    )\n",
    "    .orderBy('nStocksWithinInitialPortfolioDecile')\n",
    "    .show()\n",
    ")"
   ]
  },
  {
   "cell_type": "code",
   "execution_count": null,
   "id": "8613fe93",
   "metadata": {},
   "outputs": [],
   "source": [
    "n_stocks_within_initial_portfolio_output_df.write.mode('overwrite').parquet(PATH_OUTPUT + 'n_initial_portfolio.parquet')"
   ]
  },
  {
   "cell_type": "markdown",
   "id": "fb7933d8",
   "metadata": {},
   "source": [
    "### number of stocks within final portfolio"
   ]
  },
  {
   "cell_type": "code",
   "execution_count": null,
   "id": "b6f432cb",
   "metadata": {},
   "outputs": [],
   "source": [
    "n_stocks_within_final_portfolio_df = (\n",
    "    daily_portfolio_df\n",
    "    .withColumn('rowNumber', F.row_number().over(Window.partitionBy('accountId', 'symbol').orderBy('date')))\n",
    "    .withColumn('maxRowNumber', F.max('rowNumber').over(Window.partitionBy('accountId', 'symbol')))\n",
    "    .filter(F.col('rowNumber') == F.col('maxRowNumber'))\n",
    "    .filter(F.col('heldShares') > 0)\n",
    "    .withColumn('date', F.lit(MAX_PRICE_DATE))\n",
    "    .join(price_df.select('date', 'symbol', 'close_price'), on = ['date', 'symbol'], how = 'left')\n",
    "    .dropna(subset = ['close_price'])\n",
    "    .groupBy('accountId')\n",
    "    .agg(\n",
    "        F.countDistinct('symbol').alias('nStocksWithinFinalPortfolio')\n",
    "    )   \n",
    ")\n",
    "\n",
    "display_df(n_stocks_within_final_portfolio_df)"
   ]
  },
  {
   "cell_type": "code",
   "execution_count": null,
   "id": "d3a10563",
   "metadata": {},
   "outputs": [],
   "source": [
    "n_stocks_within_final_portfolio_output_df = (\n",
    "    return_df\n",
    "    .select('accountId', 'return')\n",
    "    .dropna()\n",
    "    .join(n_stocks_within_final_portfolio_df, on = 'accountId', how = 'inner')\n",
    "    .withColumn('nStocksWithinFinalPortfolioDecile', F.ntile(N_QUANTILES).over(Window.partitionBy().orderBy('nStocksWithinFinalPortfolio')))\n",
    ")\n",
    "\n",
    "display_df(n_stocks_within_final_portfolio_output_df)"
   ]
  },
  {
   "cell_type": "code",
   "execution_count": null,
   "id": "932ef467",
   "metadata": {},
   "outputs": [],
   "source": [
    "(\n",
    "    n_stocks_within_final_portfolio_output_df\n",
    "    .groupBy('nStocksWithinFinalPortfolioDecile')\n",
    "    .agg(\n",
    "        F.round(F.expr('percentile(return, array(0.5))')[0], 3).alias('medianReturn')\n",
    "    )\n",
    "    .orderBy('nStocksWithinFinalPortfolioDecile')\n",
    "    .show()\n",
    ")"
   ]
  },
  {
   "cell_type": "code",
   "execution_count": null,
   "id": "92ee5b67",
   "metadata": {},
   "outputs": [],
   "source": [
    "n_stocks_within_final_portfolio_output_df.write.mode('overwrite').parquet(PATH_OUTPUT + 'n_final_portfolio.parquet')"
   ]
  },
  {
   "cell_type": "markdown",
   "id": "04a87605",
   "metadata": {},
   "source": [
    "### turnover"
   ]
  },
  {
   "cell_type": "code",
   "execution_count": null,
   "id": "c1ab037f",
   "metadata": {
    "scrolled": true
   },
   "outputs": [],
   "source": [
    "turnover_df = (\n",
    "    trade_kpi_df\n",
    "    .join(final_portfolio_value_df, on =['accountId'], how = 'right')\n",
    "    \n",
    "    .fillna(0, subset = ['absSumTradeValue'])\n",
    "    .withColumn('turnover', F.col('absSumTradeValue') / F.col('finalPortfolioValue'))\n",
    "    .join(return_df.select('accountId', 'return'), on = 'accountId')\n",
    "    .withColumn('turnoverDecile', F.ntile(N_QUANTILES).over(Window.partitionBy().orderBy(F.col('turnover'))))\n",
    "    .select(\n",
    "        'accountId',\n",
    "        'turnover',\n",
    "        'turnoverDecile',\n",
    "        'return'\n",
    "    )\n",
    ")\n",
    "\n",
    "display_df(turnover_df)"
   ]
  },
  {
   "cell_type": "code",
   "execution_count": null,
   "id": "f4eee8cf",
   "metadata": {},
   "outputs": [],
   "source": [
    "(\n",
    "    turnover_df\n",
    "    .groupBy('turnoverDecile')\n",
    "    .agg(\n",
    "        F.round(F.expr('percentile(return, array(0.5))')[0], 3).alias('medianReturn')\n",
    "    )\n",
    "    .orderBy('turnoverDecile')\n",
    "    .show()\n",
    ")"
   ]
  },
  {
   "cell_type": "code",
   "execution_count": null,
   "id": "24a07c87",
   "metadata": {},
   "outputs": [],
   "source": [
    "turnover_df.write.mode('overwrite').parquet(PATH_OUTPUT + 'turnover.parquet')"
   ]
  },
  {
   "cell_type": "markdown",
   "id": "77dd9b65",
   "metadata": {},
   "source": [
    "### time series of the number of stocks within portfolio"
   ]
  },
  {
   "cell_type": "code",
   "execution_count": null,
   "id": "a16aa62e",
   "metadata": {},
   "outputs": [],
   "source": [
    "dates_list = (\n",
    "    price_df\n",
    "    .select('date')\n",
    "    .distinct()\n",
    "    .orderBy('date')\n",
    "    .rdd.flatMap(lambda x: x).collect()\n",
    ")\n",
    "\n",
    "print(dates_list)"
   ]
  },
  {
   "cell_type": "code",
   "execution_count": null,
   "id": "3598a7d3",
   "metadata": {},
   "outputs": [],
   "source": [
    "nStocksWithinPortfolioOfAllInvestors = []\n",
    "nInvestors = []\n",
    "from tqdm import tqdm\n",
    "for date in tqdm(dates_list):\n",
    "    result = (\n",
    "        daily_portfolio_df\n",
    "        .filter(F.col('date') <= date)\n",
    "        .withColumn('rowNumber', F.row_number().over(Window.partitionBy('accountId', 'symbol').orderBy('date')))\n",
    "        .withColumn('maxRowNumber', F.max('rowNumber').over(Window.partitionBy('accountId', 'symbol')))\n",
    "        .filter(F.col('rowNumber') == F.col('maxRowNumber'))\n",
    "        .filter( (F.col('heldShares') > 0) & (F.col('heldShares').isNotNull()) )\n",
    "        .groupBy('accountId')\n",
    "        .agg(\n",
    "            F.count(F.lit(1)).alias('nStocksWithinPortfolioOfAllInvestors'),\n",
    "        )\n",
    "        .agg(\n",
    "            F.round(F.mean('nStocksWithinPortfolioOfAllInvestors'), 3).alias('nStocksWithinPortfolioOfAllInvestors'),\n",
    "            F.count(F.lit(1)).alias('nInvestors')\n",
    "        )\n",
    "    )\n",
    "    nStocksWithinPortfolioOfAllInvestors.append(result.collect()[0][0])\n",
    "    nInvestors.append(result.collect()[0][1])"
   ]
  },
  {
   "cell_type": "code",
   "execution_count": null,
   "id": "7d2688e8",
   "metadata": {},
   "outputs": [],
   "source": [
    "n_stocks_df = spark.createDataFrame(\n",
    "    pd.DataFrame({\n",
    "        'date' : dates_list,\n",
    "        'nStocksWithinPortfolioOfAllInvestors' : nStocksWithinPortfolioOfAllInvestors,\n",
    "        'nInvestors' : nInvestors\n",
    "    })\n",
    ")\n",
    "\n",
    "display_df(n_stocks_df)"
   ]
  },
  {
   "cell_type": "code",
   "execution_count": null,
   "id": "f83933cf",
   "metadata": {},
   "outputs": [],
   "source": [
    "n_stocks_df.write.mode('overwrite').parquet(PATH_OUTPUT + 'mean_number_of_stocks_within_portfolio.parquet')"
   ]
  },
  {
   "cell_type": "code",
   "execution_count": null,
   "id": "0b51f2bb",
   "metadata": {},
   "outputs": [],
   "source": [
    "initial_ids =  [row['accountId'] for row in portfolio_df.select('accountId').distinct().collect()]\n",
    "initial_ids = set(initial_ids)"
   ]
  },
  {
   "cell_type": "code",
   "execution_count": null,
   "id": "0a93bcf1",
   "metadata": {},
   "outputs": [],
   "source": [
    "unique_id_trade = flat_trade_df.dropDuplicates(subset=['accountId','date'])\n",
    "unique_id_trade.count()\n",
    "result = {}\n",
    "for date in dates_list[:3]:\n",
    "    print(len(initial_ids))\n",
    "    tempt = unique_id_trade.filter(F.col('date') == date).select('accountId').distinct().collect()\n",
    "    teades_ids = set([row['accountId'] for row in tempt])\n",
    "    result[date] = len(teades_ids -initial_ids )\n",
    "    \n",
    "    initial_ids =  set.union(initial_ids, teades_ids)"
   ]
  },
  {
   "cell_type": "code",
   "execution_count": null,
   "id": "14de4eea",
   "metadata": {},
   "outputs": [],
   "source": []
  }
 ],
 "metadata": {
  "kernelspec": {
   "display_name": "Python 3 (ipykernel)",
   "language": "python",
   "name": "python3"
  },
  "language_info": {
   "codemirror_mode": {
    "name": "ipython",
    "version": 3
   },
   "file_extension": ".py",
   "mimetype": "text/x-python",
   "name": "python",
   "nbconvert_exporter": "python",
   "pygments_lexer": "ipython3",
   "version": "3.8.10"
  }
 },
 "nbformat": 4,
 "nbformat_minor": 5
}
